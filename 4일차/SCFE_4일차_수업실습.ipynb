{
  "nbformat": 4,
  "nbformat_minor": 0,
  "metadata": {
    "colab": {
      "provenance": []
    },
    "kernelspec": {
      "name": "python3",
      "display_name": "Python 3"
    },
    "language_info": {
      "name": "python"
    }
  },
  "cells": [
    {
      "cell_type": "markdown",
      "metadata": {
        "id": "rcAigBKu8hP5"
      },
      "source": [
        "#1 지도학습-분류\n",
        "\n",
        "분류(Classification)는 학습데이터로 주어진 데이터의 피처와 레이블 값(결정 값, 클래스 값)을 머신러닝 알고리즘으로 학습해 모델을 생성하고, 이렇게 생성된 모델에 새로운 데이터 값이 주어졌을 때 미지의 레이블값을 예측 하는것\n",
        "\n",
        "**대표적인 분류 알고리즘**\n",
        " - 베이즈(Bayes) 통계와 생성 모델에 기반한 나이브 베이즈(Naive Bayes)\n",
        " - 독립변수와 종속변수의 선형 관계성에 기반한 로지스틱 회귀(Logistic Regression)\n",
        " - 데이터 균일도에 따른 규칙 기반의 결정트리(Decision Tree)\n",
        " - 개별 클래스 간의 최대 분류 마진을 효과적으로 찾아주는 서포트 벡터 머신(Support Vector machine)\n",
        " - 근접 거리를 기준으로 하는 최소 근접(Nearest Neighbor) 알고리즘\n",
        " - 심층 연결 기반의 신경망(Neural Network)\n",
        " - 서로 다른(또는 같은) 머신러닝 알고리즘을 결합한 앙상블(Ensemble)\n",
        "\n"
      ]
    },
    {
      "cell_type": "code",
      "source": [
        "!unzip mortDefault2008.zip"
      ],
      "metadata": {
        "id": "WQb-iEyAixJD"
      },
      "execution_count": null,
      "outputs": []
    },
    {
      "cell_type": "code",
      "source": [
        "#mortDefault2008.csv에 대해서 아래의 내용을 적용...\n",
        "#DT, RF결과 비교해보세요.\n",
        "import pandas as pd\n",
        "from sklearn.model_selection import train_test_split\n",
        "from sklearn.tree import DecisionTreeClassifier\n",
        "from sklearn.ensemble import RandomForestClassifier, GradientBoostingClassifier\n",
        "from sklearn.metrics import classification_report\n",
        "data = pd.read_csv(\"mortDefault2008.csv\")\n",
        "data.drop(\"year\", axis=1, inplace=True)\n",
        "target = \"default\"\n",
        "train, test = train_test_split(data, test_size=0.3, random_state=1)\n",
        "dt = RandomForestClassifier(n_estimators=10, max_depth=3)\n",
        "dt.fit( train.drop(target, axis=1), train[target] )\n",
        "pred = dt.predict( test.drop(target, axis=1) )\n",
        "print( classification_report(test[target], pred) )"
      ],
      "metadata": {
        "id": "9HsbWDLrCj-5"
      },
      "execution_count": null,
      "outputs": []
    },
    {
      "cell_type": "code",
      "source": [
        "#sp500_tm.csv   train/test, 8:2 , direction를 target\n",
        "# DT, RF, GBC 분류모형, 성능 비교,"
      ],
      "metadata": {
        "id": "TBdfFCoJqYUw"
      },
      "execution_count": null,
      "outputs": []
    },
    {
      "cell_type": "markdown",
      "metadata": {
        "id": "nDSNNo6PPsLW"
      },
      "source": [
        "\n",
        "\n",
        " # 2 DT와 Ensemble(Bagging, Boosting)\n",
        " - DT는 매우 쉽고 유연하게 적용될 수 있는 알고리즘. 데이터의 스케일링이나 정규화 등의 사전 가공의 영향이 매우 적음. 하지만 예측 성능을 향상시키기 위해 복잡한 규칙 구조를 가져야 하여, 이로 인한 과적합(Overfitting)이 발생해 반대로 예측 성능이 저하될 수도 있다는 단점\n",
        "\n",
        " -앙상블 기법에서는 오히려 장점으로 작용. 앙상블은 매우 많은 여러개의 약한 학습기(즉, 예측 성능이 상대적으로 떨어지는 학습 알고리즘)을 결합해 확률적 보완과 오류가 발생한 부분에 대한 가중치를 계속 업데이트 하면서 예측 성능을 향상시키는데, DT가 좋은 약한 학습기가 되기 때문(GBM, LightGBM etc)\n",
        "\n",
        "\n",
        "## 의사결정나무(Decision Tree)\n",
        "\n",
        "- if/else 로 스무고개?\n",
        "\n",
        "\n",
        "- 결정 트리(Decision Tree, 의사결정트리, 의사결정나무라고도 함)는 분류(Classification)와 회귀(Regression) 모두 가능한 지도 학습 모델.\n",
        "- 매, 펭귄, 돌고래, 곰 분류\n",
        "<figure>\n",
        "    <img src='https://img1.daumcdn.net/thumb/R1280x0/?scode=mtistory2&fname=https%3A%2F%2Fblog.kakaocdn.net%2Fdn%2FwlH1u%2FbtqwWZI9Xen%2FkFJDjGSFJAPxhyatC3Xhs0%2Fimg.png' width=700 height=300>\n",
        "</figure>\n",
        "\n",
        "특정 기준(질문)에 따라 데이터를 구분하는 모델을 결정 트리 모델이라고 함.\n",
        "\n",
        "<figure>\n",
        "    <img src='https://img1.daumcdn.net/thumb/R1280x0/?scode=mtistory2&fname=https%3A%2F%2Fblog.kakaocdn.net%2Fdn%2Fdy5OwG%2FbtqDwdHofoT%2FNtDy9lqXkhWTRTwEz6txd0%2Fimg.png' width=700 height=300>\n",
        "</figure>\n",
        "\n",
        "많은 규칙이 있으면 분류를 결정하는 방식이 복잡해짐: 과적합\n",
        "\n",
        "\n",
        "\n",
        "## 데이터의 균일도\n",
        "\n",
        "<figure>\n",
        "    <img src='https://blog.kakaocdn.net/dn/dhoo7N/btqDvzqEhPH/QdOsfkqc2hcwHISIh0peo1/img.png' width=700 height=300>\n",
        "</figure>\n",
        "\n",
        "\n",
        "위 그림에서는 C > B > A 순으로 균일도가 높다고 할 수 있음. C는 모두 파란색 공으로 데이터가 모두 균일한 상태. B의 경우는 일부의 하얀색 공을 가지고 있지만 대부분 파란색 공으로 구성되어 있어 C다음으로 균일도가 높음. 이러한 데이터 세트에서 균일도는 분류 성능에 대한 정보를 제공\n",
        "\n",
        "\n",
        "\n",
        "정보의 균일도를 측정하는 대표적인 방법에는 엔트로피를 이용한 정보 이득(Information Gain)지수와 지니계수\n",
        "\n",
        "### 불순도(Impurity)\n",
        "\n",
        "\n",
        "불순도(Impurity)란 해당 범주 안에 서로 다른 데이터가 얼마나 섞여 있는지 의미\n",
        "아래 그림에서 위쪽 범주는 불순도가 낮고, 아래쪽 범주는 불순도가 높음. 즉, 위쪽 범주는 순도(Purity)가 높고, 아래쪽 범주는 순도가 낮음\n",
        "위쪽 범주는 다 빨간점인데 하나만 파란점이므로 불순도가 낮은 반면 아래쪽 범주는 5개는 파란점, 3개는 빨간점으로 서로 다른 데이터가 많이 섞여 있어 불순도가 높음.\n",
        "\n",
        "\n",
        "<figure>\n",
        "    <img src='https://img1.daumcdn.net/thumb/R1280x0/?scode=mtistory2&fname=https%3A%2F%2Fblog.kakaocdn.net%2Fdn%2FqLXhZ%2FbtqwWyZl6iV%2FUZnQbf9L5HAFzf6hFfxK71%2Fimg.png' width=400 height=300>\n",
        "</figure>\n",
        "\n",
        "\n",
        "한 범주에 하나의 데이터만 있다면 불순도가 최소(혹은 순도가 최대)이고, 한 범주 안에 서로 다른 두 데이터가 정확히 반반 있다면 불순도가 최대(혹은 순도가 최소).\n",
        "결정 트리는 불순도를 최소화(혹은 순도를 최대화)하는 방향으로 학습을 진행.\n",
        "\n",
        "엔트로피(Entropy): 불순도(Impurity)를 수치적으로 나타낸 척도. 엔트로피가 높다는 것은 불순도가 높다는 뜻이고, 엔트로피가 낮다는 것은 불순도가 낮음을 의미\n",
        "엔트로피가 1이면 불순도가 최대. 즉, 한 범주 안에 서로 다른 데이터가 정확히 반반 있음.\n",
        "엔트로피가 0이면 불순도는 최소. 한 범주 안에 하나의 데이터만 있음\n",
        "\n",
        "### 정보 이득(Information Gain)\n",
        "\n",
        "정보 이득은 엔트로피라는 개념을 기반으로 함. 엔트로피는 주어진 데이터 집합의 혼잡도를 의미, 서로 다른 값이 섞여 있으면 엔트로피가 높고, 같은 값이 섞여 있으면 엔트로피가 낮음. 정보 이득 지수는 1에서 엔트로피 지수를 뺀 값. 즉, 1-엔트로피 지수. 결정트리는 이 정보 이득 지수로 분할 기준을 정함. 즉, 정보 이득이 높은 속성을 기준으로 분할\n",
        "\n",
        "\n",
        "### 지니 계수(Gini Index)\n",
        "\n",
        "불평등 지수를 나타낼 때 사용하는 계수. 경제학자인 코라도 지니(Corrado Gini)의 이름에서 딴 계수로서 0이 가장 평등하고 1로 갈수록 불평등함. 머신러닝에 적용될 때는 지니 계수가 낮을수록 데이터 균일도가 높은 것으로 해석 되어, 계수가 낮은 속성을 기준으로 분할.\n",
        "\n",
        "A 영역에 속한 모든 레코드가 동일한 범주에 속할 경우(=불확실성 최소=순도 최대) 엔트로피는 0.\n",
        "범주가 둘뿐이고 해당 개체의 수가 동일하게 반반씩 섞여 있을 경우(=불확실성 최대=순도 최소) 엔트로피는 1\n",
        "\n",
        "\n",
        "##  DT 주요 hyperparameter\n",
        "\n",
        "1. max_depth\n",
        " - 트리의 최대 깊이를 규정\n",
        " - defualt 는 None.None으로 설정하면 완벽하게 클래스 결정 값이 될 때까지 깊이를 계속 키우며 분할하거나 노드가 가지는 데이터 개수가 min_samples_split 보다 작아질 때까지 게속 깊이를 증가시킴.\n",
        " - 깊이가 깊어지면, min_samples_split 설정대로 최대 분할하여 과적합할 수 있으므로 적절한 값으로 제어 필요\n",
        "\n",
        "2. max_features\n",
        " - 최적의 분할을 위해 고려할 최대 피쳐 개수, 디폴트는 None으로 데이터 세트의 모든 피처를 사용해 분할 수행.\n",
        " - int 형으로 지정하면 대상 피처의 개수, float 형으로 지정하면 전체 피처 중 대상 피처의 퍼센트임.\n",
        " - 'sqrt'는 전체 피처 중 sqrt(전체 피처 개수) 즉 ${\\sqrt {전체 피처}}$개수 만큼 선정.\n",
        " - 'auto'로 지정하면 sqrt와 동일\n",
        " - 'log'는 전체 피처 중 log2(전체 피처 개수) 선정\n",
        " - 'None'은 전체 피처 선정\n",
        "\n",
        "3. min_samples_split\n",
        " - 노드를 분할하기 위한 최소한의 샘플 데이터 수로 과적합을 제어하는 데 사용됨.\n",
        " - 디폴트는 2이고 작게 설정할수록 분할되는 노드가 많아져서 과적합 가능성 증가\n",
        " - 과적합을 제어, 1로 설정하는 경우 분할되는 노드가 많아져서 과적합 가능성 증가\n",
        "4. min_samples_leaf\n",
        " - 말단 노드(leaf)가 되기 위한 최소한의 샘플 데이터 수\n",
        " - min_samples_split와 유사하게 과적합 제어 용도. 그러나 비대칭적(imbalanced) 데이터의 경우 클래스의 데이터가 극도로 작을 수 있으므로, 이 경우는 작게 설정 필요.\n",
        "\n",
        "5. max_leaf_nodes\n",
        " - 말단 노드(Leaf)의 최대 개수.\n",
        "\n",
        "\n",
        "**결정트리를 그리가 위해 graphviz를 이용함**"
      ]
    },
    {
      "cell_type": "code",
      "metadata": {
        "colab": {
          "base_uri": "https://localhost:8080/"
        },
        "id": "9zdKX7Khbsk4",
        "outputId": "c7a4ab41-c0d4-4165-a8aa-b5c93317ea57"
      },
      "source": [
        "!pip install graphviz"
      ],
      "execution_count": null,
      "outputs": [
        {
          "output_type": "stream",
          "name": "stdout",
          "text": [
            "Looking in indexes: https://pypi.org/simple, https://us-python.pkg.dev/colab-wheels/public/simple/\n",
            "Requirement already satisfied: graphviz in /usr/local/lib/python3.9/dist-packages (0.10.1)\n"
          ]
        }
      ]
    },
    {
      "cell_type": "markdown",
      "metadata": {
        "id": "CiFgjwqemm-E"
      },
      "source": [
        "### 예제 학습데이터"
      ]
    },
    {
      "cell_type": "code",
      "metadata": {
        "colab": {
          "base_uri": "https://localhost:8080/"
        },
        "id": "YZ2ynIw_miks",
        "outputId": "b40d41f4-577e-4a58-96db-9e836deb3dfc"
      },
      "source": [
        "import pandas as pd\n",
        "# 데이터 정의\n",
        "data = pd.DataFrame({\"no_insects\":[\"True\",\"True\",\"True\",\"False\",\"True\",\"True\",\"True\",\"True\",\"True\",\"False\"],\n",
        "                     \"no_dead\":[\"True\",\"True\",\"False\",\"True\",\"True\",\"True\",\"False\",\"False\",\"True\",\"False\"],\n",
        "                     \"no_wilting\":[\"True\",\"True\",\"True\",\"True\",\"True\",\"True\",\"False\",\"True\",\"True\",\"True\"],\n",
        "                     \"no_diseases\":[\"True\",\"True\",\"False\",\"True\",\"True\",\"True\",\"False\",\"False\",\"True\",\"True\"],\n",
        "                     \"tree_health\":[\"Good\",\"Good\",\"Poor\",\"Good\",\"Good\",\"Good\",\"Poor\",\"Poor\",\"Good\",\"Poor\"]},\n",
        "                    columns=[\"no_insects\",\"no_dead\",\"no_wilting\",\"no_diseases\",\"tree_health\"])\n",
        "# 기술 속성(descriptive features)\n",
        "features = data[[\"no_insects\",\"no_dead\",\"no_wilting\",\"no_diseases\"]]\n",
        "# 대상 속성(target feature)\n",
        "target = data[\"tree_health\"]\n",
        "print(data)\n"
      ],
      "execution_count": 38,
      "outputs": [
        {
          "output_type": "stream",
          "name": "stdout",
          "text": [
            "  no_insects no_dead no_wilting no_diseases tree_health\n",
            "0       True    True       True        True        Good\n",
            "1       True    True       True        True        Good\n",
            "2       True   False       True       False        Poor\n",
            "3      False    True       True        True        Good\n",
            "4       True    True       True        True        Good\n",
            "5       True    True       True        True        Good\n",
            "6       True   False      False       False        Poor\n",
            "7       True   False       True       False        Poor\n",
            "8       True    True       True        True        Good\n",
            "9      False   False       True        True        Poor\n"
          ]
        }
      ]
    },
    {
      "cell_type": "markdown",
      "metadata": {
        "id": "ZF5geNtPo7FW"
      },
      "source": [
        "![image.png](data:image/png;base64,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)"
      ]
    },
    {
      "cell_type": "markdown",
      "metadata": {
        "id": "m67pCdmhpC16"
      },
      "source": [
        "![image.png](data:image/png;base64,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)\n",
        "\n",
        "![image.png](data:image/png;base64,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)"
      ]
    },
    {
      "cell_type": "code",
      "metadata": {
        "colab": {
          "base_uri": "https://localhost:8080/"
        },
        "id": "3q3N1rZ8PrNo",
        "outputId": "3a4a5106-7e87-47ae-d959-bcdd4fa2f0b1"
      },
      "source": [
        "!pip install graphviz"
      ],
      "execution_count": 39,
      "outputs": [
        {
          "output_type": "stream",
          "name": "stdout",
          "text": [
            "Requirement already satisfied: graphviz in /usr/local/lib/python3.10/dist-packages (0.20.3)\n"
          ]
        }
      ]
    },
    {
      "cell_type": "markdown",
      "metadata": {
        "id": "I4U0Nab3Xe31"
      },
      "source": [
        "# 3 DT의 시각화\n"
      ]
    },
    {
      "cell_type": "code",
      "metadata": {
        "colab": {
          "base_uri": "https://localhost:8080/",
          "height": 74
        },
        "id": "-u2sbNNlXHvZ",
        "outputId": "0aedfa5a-ec64-42a8-dee9-2847e5c13a3c"
      },
      "source": [
        "from sklearn.tree import DecisionTreeClassifier\n",
        "from sklearn.datasets import load_iris\n",
        "from sklearn.model_selection import train_test_split\n",
        "import warnings\n",
        "warnings.filterwarnings('ignore')\n",
        "\n",
        "# DecisionTree Classifier 생성\n",
        "dt_clf = DecisionTreeClassifier(min_samples_leaf=6,random_state=156)\n",
        "\n",
        "# 붓꽃 데이터를 로딩하고, 학습과 테스트 데이터 셋으로 분리\n",
        "iris_data = load_iris()\n",
        "X_train , X_test , y_train , y_test = train_test_split(iris_data.data, iris_data.target,\n",
        "                                                       test_size=0.2,  random_state=11)\n",
        "\n",
        "# DecisionTreeClassifer 학습.\n",
        "dt_clf.fit(X_train , y_train)"
      ],
      "execution_count": null,
      "outputs": [
        {
          "output_type": "execute_result",
          "data": {
            "text/plain": [
              "DecisionTreeClassifier(min_samples_leaf=6, random_state=156)"
            ],
            "text/html": [
              "<style>#sk-container-id-2 {color: black;background-color: white;}#sk-container-id-2 pre{padding: 0;}#sk-container-id-2 div.sk-toggleable {background-color: white;}#sk-container-id-2 label.sk-toggleable__label {cursor: pointer;display: block;width: 100%;margin-bottom: 0;padding: 0.3em;box-sizing: border-box;text-align: center;}#sk-container-id-2 label.sk-toggleable__label-arrow:before {content: \"▸\";float: left;margin-right: 0.25em;color: #696969;}#sk-container-id-2 label.sk-toggleable__label-arrow:hover:before {color: black;}#sk-container-id-2 div.sk-estimator:hover label.sk-toggleable__label-arrow:before {color: black;}#sk-container-id-2 div.sk-toggleable__content {max-height: 0;max-width: 0;overflow: hidden;text-align: left;background-color: #f0f8ff;}#sk-container-id-2 div.sk-toggleable__content pre {margin: 0.2em;color: black;border-radius: 0.25em;background-color: #f0f8ff;}#sk-container-id-2 input.sk-toggleable__control:checked~div.sk-toggleable__content {max-height: 200px;max-width: 100%;overflow: auto;}#sk-container-id-2 input.sk-toggleable__control:checked~label.sk-toggleable__label-arrow:before {content: \"▾\";}#sk-container-id-2 div.sk-estimator input.sk-toggleable__control:checked~label.sk-toggleable__label {background-color: #d4ebff;}#sk-container-id-2 div.sk-label input.sk-toggleable__control:checked~label.sk-toggleable__label {background-color: #d4ebff;}#sk-container-id-2 input.sk-hidden--visually {border: 0;clip: rect(1px 1px 1px 1px);clip: rect(1px, 1px, 1px, 1px);height: 1px;margin: -1px;overflow: hidden;padding: 0;position: absolute;width: 1px;}#sk-container-id-2 div.sk-estimator {font-family: monospace;background-color: #f0f8ff;border: 1px dotted black;border-radius: 0.25em;box-sizing: border-box;margin-bottom: 0.5em;}#sk-container-id-2 div.sk-estimator:hover {background-color: #d4ebff;}#sk-container-id-2 div.sk-parallel-item::after {content: \"\";width: 100%;border-bottom: 1px solid gray;flex-grow: 1;}#sk-container-id-2 div.sk-label:hover label.sk-toggleable__label {background-color: #d4ebff;}#sk-container-id-2 div.sk-serial::before {content: \"\";position: absolute;border-left: 1px solid gray;box-sizing: border-box;top: 0;bottom: 0;left: 50%;z-index: 0;}#sk-container-id-2 div.sk-serial {display: flex;flex-direction: column;align-items: center;background-color: white;padding-right: 0.2em;padding-left: 0.2em;position: relative;}#sk-container-id-2 div.sk-item {position: relative;z-index: 1;}#sk-container-id-2 div.sk-parallel {display: flex;align-items: stretch;justify-content: center;background-color: white;position: relative;}#sk-container-id-2 div.sk-item::before, #sk-container-id-2 div.sk-parallel-item::before {content: \"\";position: absolute;border-left: 1px solid gray;box-sizing: border-box;top: 0;bottom: 0;left: 50%;z-index: -1;}#sk-container-id-2 div.sk-parallel-item {display: flex;flex-direction: column;z-index: 1;position: relative;background-color: white;}#sk-container-id-2 div.sk-parallel-item:first-child::after {align-self: flex-end;width: 50%;}#sk-container-id-2 div.sk-parallel-item:last-child::after {align-self: flex-start;width: 50%;}#sk-container-id-2 div.sk-parallel-item:only-child::after {width: 0;}#sk-container-id-2 div.sk-dashed-wrapped {border: 1px dashed gray;margin: 0 0.4em 0.5em 0.4em;box-sizing: border-box;padding-bottom: 0.4em;background-color: white;}#sk-container-id-2 div.sk-label label {font-family: monospace;font-weight: bold;display: inline-block;line-height: 1.2em;}#sk-container-id-2 div.sk-label-container {text-align: center;}#sk-container-id-2 div.sk-container {/* jupyter's `normalize.less` sets `[hidden] { display: none; }` but bootstrap.min.css set `[hidden] { display: none !important; }` so we also need the `!important` here to be able to override the default hidden behavior on the sphinx rendered scikit-learn.org. See: https://github.com/scikit-learn/scikit-learn/issues/21755 */display: inline-block !important;position: relative;}#sk-container-id-2 div.sk-text-repr-fallback {display: none;}</style><div id=\"sk-container-id-2\" class=\"sk-top-container\"><div class=\"sk-text-repr-fallback\"><pre>DecisionTreeClassifier(min_samples_leaf=6, random_state=156)</pre><b>In a Jupyter environment, please rerun this cell to show the HTML representation or trust the notebook. <br />On GitHub, the HTML representation is unable to render, please try loading this page with nbviewer.org.</b></div><div class=\"sk-container\" hidden><div class=\"sk-item\"><div class=\"sk-estimator sk-toggleable\"><input class=\"sk-toggleable__control sk-hidden--visually\" id=\"sk-estimator-id-2\" type=\"checkbox\" checked><label for=\"sk-estimator-id-2\" class=\"sk-toggleable__label sk-toggleable__label-arrow\">DecisionTreeClassifier</label><div class=\"sk-toggleable__content\"><pre>DecisionTreeClassifier(min_samples_leaf=6, random_state=156)</pre></div></div></div></div></div>"
            ]
          },
          "metadata": {},
          "execution_count": 24
        }
      ]
    },
    {
      "cell_type": "code",
      "metadata": {
        "id": "eG4fQ6sQXm2z"
      },
      "source": [
        "from sklearn.tree import export_graphviz\n",
        "\n",
        "# export_graphviz()의 호출 결과로 out_file로 지정된 tree.dot 파일을 생성함.\n",
        "export_graphviz(dt_clf, out_file=\"tree.dot\",\n",
        "                class_names=iris_data.target_names ,\n",
        "                feature_names = iris_data.feature_names,\n",
        "                impurity=True, filled=True)"
      ],
      "execution_count": null,
      "outputs": []
    },
    {
      "cell_type": "code",
      "metadata": {
        "colab": {
          "base_uri": "https://localhost:8080/",
          "height": 756
        },
        "id": "oye9xlVOXo1n",
        "outputId": "b4dbe2a2-5f26-4abb-9222-fadb6f24c99b"
      },
      "source": [
        "import graphviz\n",
        "\n",
        "# 위에서 생성된 tree.dot 파일을 Graphviz 읽어서 Jupyter Notebook상에서 시각화\n",
        "with open(\"tree.dot\") as f:\n",
        "    dot_graph = f.read()\n",
        "graphviz.Source(dot_graph)"
      ],
      "execution_count": null,
      "outputs": [
        {
          "output_type": "execute_result",
          "data": {
            "text/plain": [
              "<graphviz.files.Source at 0x7f9ea06c4e80>"
            ],
            "image/svg+xml": "<?xml version=\"1.0\" encoding=\"UTF-8\" standalone=\"no\"?>\n<!DOCTYPE svg PUBLIC \"-//W3C//DTD SVG 1.1//EN\"\n \"http://www.w3.org/Graphics/SVG/1.1/DTD/svg11.dtd\">\n<!-- Generated by graphviz version 2.43.0 (0)\n -->\n<!-- Title: Tree Pages: 1 -->\n<svg width=\"601pt\" height=\"552pt\"\n viewBox=\"0.00 0.00 601.00 552.00\" xmlns=\"http://www.w3.org/2000/svg\" xmlns:xlink=\"http://www.w3.org/1999/xlink\">\n<g id=\"graph0\" class=\"graph\" transform=\"scale(1 1) rotate(0) translate(4 548)\">\n<title>Tree</title>\n<polygon fill=\"white\" stroke=\"transparent\" points=\"-4,4 -4,-548 597,-548 597,4 -4,4\"/>\n<!-- 0 -->\n<g id=\"node1\" class=\"node\">\n<title>0</title>\n<polygon fill=\"#fffdfd\" stroke=\"black\" points=\"291.5,-544 123.5,-544 123.5,-461 291.5,-461 291.5,-544\"/>\n<text text-anchor=\"middle\" x=\"207.5\" y=\"-528.8\" font-family=\"Helvetica,sans-Serif\" font-size=\"14.00\">petal length (cm) &lt;= 2.45</text>\n<text text-anchor=\"middle\" x=\"207.5\" y=\"-513.8\" font-family=\"Helvetica,sans-Serif\" font-size=\"14.00\">gini = 0.667</text>\n<text text-anchor=\"middle\" x=\"207.5\" y=\"-498.8\" font-family=\"Helvetica,sans-Serif\" font-size=\"14.00\">samples = 120</text>\n<text text-anchor=\"middle\" x=\"207.5\" y=\"-483.8\" font-family=\"Helvetica,sans-Serif\" font-size=\"14.00\">value = [41, 40, 39]</text>\n<text text-anchor=\"middle\" x=\"207.5\" y=\"-468.8\" font-family=\"Helvetica,sans-Serif\" font-size=\"14.00\">class = setosa</text>\n</g>\n<!-- 1 -->\n<g id=\"node2\" class=\"node\">\n<title>1</title>\n<polygon fill=\"#e58139\" stroke=\"black\" points=\"187,-417.5 70,-417.5 70,-349.5 187,-349.5 187,-417.5\"/>\n<text text-anchor=\"middle\" x=\"128.5\" y=\"-402.3\" font-family=\"Helvetica,sans-Serif\" font-size=\"14.00\">gini = 0.0</text>\n<text text-anchor=\"middle\" x=\"128.5\" y=\"-387.3\" font-family=\"Helvetica,sans-Serif\" font-size=\"14.00\">samples = 41</text>\n<text text-anchor=\"middle\" x=\"128.5\" y=\"-372.3\" font-family=\"Helvetica,sans-Serif\" font-size=\"14.00\">value = [41, 0, 0]</text>\n<text text-anchor=\"middle\" x=\"128.5\" y=\"-357.3\" font-family=\"Helvetica,sans-Serif\" font-size=\"14.00\">class = setosa</text>\n</g>\n<!-- 0&#45;&gt;1 -->\n<g id=\"edge1\" class=\"edge\">\n<title>0&#45;&gt;1</title>\n<path fill=\"none\" stroke=\"black\" d=\"M180.09,-460.91C172.49,-449.65 164.23,-437.42 156.59,-426.11\"/>\n<polygon fill=\"black\" stroke=\"black\" points=\"159.39,-424 150.89,-417.67 153.59,-427.91 159.39,-424\"/>\n<text text-anchor=\"middle\" x=\"146.14\" y=\"-438.51\" font-family=\"Helvetica,sans-Serif\" font-size=\"14.00\">True</text>\n</g>\n<!-- 2 -->\n<g id=\"node3\" class=\"node\">\n<title>2</title>\n<polygon fill=\"#fafefc\" stroke=\"black\" points=\"368,-425 205,-425 205,-342 368,-342 368,-425\"/>\n<text text-anchor=\"middle\" x=\"286.5\" y=\"-409.8\" font-family=\"Helvetica,sans-Serif\" font-size=\"14.00\">petal width (cm) &lt;= 1.55</text>\n<text text-anchor=\"middle\" x=\"286.5\" y=\"-394.8\" font-family=\"Helvetica,sans-Serif\" font-size=\"14.00\">gini = 0.5</text>\n<text text-anchor=\"middle\" x=\"286.5\" y=\"-379.8\" font-family=\"Helvetica,sans-Serif\" font-size=\"14.00\">samples = 79</text>\n<text text-anchor=\"middle\" x=\"286.5\" y=\"-364.8\" font-family=\"Helvetica,sans-Serif\" font-size=\"14.00\">value = [0, 40, 39]</text>\n<text text-anchor=\"middle\" x=\"286.5\" y=\"-349.8\" font-family=\"Helvetica,sans-Serif\" font-size=\"14.00\">class = versicolor</text>\n</g>\n<!-- 0&#45;&gt;2 -->\n<g id=\"edge2\" class=\"edge\">\n<title>0&#45;&gt;2</title>\n<path fill=\"none\" stroke=\"black\" d=\"M234.91,-460.91C240.91,-452.01 247.33,-442.51 253.53,-433.33\"/>\n<polygon fill=\"black\" stroke=\"black\" points=\"256.44,-435.27 259.14,-425.02 250.64,-431.35 256.44,-435.27\"/>\n<text text-anchor=\"middle\" x=\"263.9\" y=\"-445.86\" font-family=\"Helvetica,sans-Serif\" font-size=\"14.00\">False</text>\n</g>\n<!-- 3 -->\n<g id=\"node4\" class=\"node\">\n<title>3</title>\n<polygon fill=\"#3ee684\" stroke=\"black\" points=\"277.5,-306 109.5,-306 109.5,-223 277.5,-223 277.5,-306\"/>\n<text text-anchor=\"middle\" x=\"193.5\" y=\"-290.8\" font-family=\"Helvetica,sans-Serif\" font-size=\"14.00\">petal length (cm) &lt;= 4.65</text>\n<text text-anchor=\"middle\" x=\"193.5\" y=\"-275.8\" font-family=\"Helvetica,sans-Serif\" font-size=\"14.00\">gini = 0.051</text>\n<text text-anchor=\"middle\" x=\"193.5\" y=\"-260.8\" font-family=\"Helvetica,sans-Serif\" font-size=\"14.00\">samples = 38</text>\n<text text-anchor=\"middle\" x=\"193.5\" y=\"-245.8\" font-family=\"Helvetica,sans-Serif\" font-size=\"14.00\">value = [0, 37, 1]</text>\n<text text-anchor=\"middle\" x=\"193.5\" y=\"-230.8\" font-family=\"Helvetica,sans-Serif\" font-size=\"14.00\">class = versicolor</text>\n</g>\n<!-- 2&#45;&gt;3 -->\n<g id=\"edge3\" class=\"edge\">\n<title>2&#45;&gt;3</title>\n<path fill=\"none\" stroke=\"black\" d=\"M254.23,-341.91C247.09,-332.92 239.46,-323.32 232.09,-314.05\"/>\n<polygon fill=\"black\" stroke=\"black\" points=\"234.67,-311.67 225.71,-306.02 229.19,-316.03 234.67,-311.67\"/>\n</g>\n<!-- 6 -->\n<g id=\"node7\" class=\"node\">\n<title>6</title>\n<polygon fill=\"#8b49e7\" stroke=\"black\" points=\"463.5,-306 295.5,-306 295.5,-223 463.5,-223 463.5,-306\"/>\n<text text-anchor=\"middle\" x=\"379.5\" y=\"-290.8\" font-family=\"Helvetica,sans-Serif\" font-size=\"14.00\">petal length (cm) &lt;= 5.15</text>\n<text text-anchor=\"middle\" x=\"379.5\" y=\"-275.8\" font-family=\"Helvetica,sans-Serif\" font-size=\"14.00\">gini = 0.136</text>\n<text text-anchor=\"middle\" x=\"379.5\" y=\"-260.8\" font-family=\"Helvetica,sans-Serif\" font-size=\"14.00\">samples = 41</text>\n<text text-anchor=\"middle\" x=\"379.5\" y=\"-245.8\" font-family=\"Helvetica,sans-Serif\" font-size=\"14.00\">value = [0, 3, 38]</text>\n<text text-anchor=\"middle\" x=\"379.5\" y=\"-230.8\" font-family=\"Helvetica,sans-Serif\" font-size=\"14.00\">class = virginica</text>\n</g>\n<!-- 2&#45;&gt;6 -->\n<g id=\"edge6\" class=\"edge\">\n<title>2&#45;&gt;6</title>\n<path fill=\"none\" stroke=\"black\" d=\"M318.77,-341.91C325.91,-332.92 333.54,-323.32 340.91,-314.05\"/>\n<polygon fill=\"black\" stroke=\"black\" points=\"343.81,-316.03 347.29,-306.02 338.33,-311.67 343.81,-316.03\"/>\n</g>\n<!-- 4 -->\n<g id=\"node5\" class=\"node\">\n<title>4</title>\n<polygon fill=\"#39e581\" stroke=\"black\" points=\"121,-179.5 0,-179.5 0,-111.5 121,-111.5 121,-179.5\"/>\n<text text-anchor=\"middle\" x=\"60.5\" y=\"-164.3\" font-family=\"Helvetica,sans-Serif\" font-size=\"14.00\">gini = 0.0</text>\n<text text-anchor=\"middle\" x=\"60.5\" y=\"-149.3\" font-family=\"Helvetica,sans-Serif\" font-size=\"14.00\">samples = 31</text>\n<text text-anchor=\"middle\" x=\"60.5\" y=\"-134.3\" font-family=\"Helvetica,sans-Serif\" font-size=\"14.00\">value = [0, 31, 0]</text>\n<text text-anchor=\"middle\" x=\"60.5\" y=\"-119.3\" font-family=\"Helvetica,sans-Serif\" font-size=\"14.00\">class = versicolor</text>\n</g>\n<!-- 3&#45;&gt;4 -->\n<g id=\"edge4\" class=\"edge\">\n<title>3&#45;&gt;4</title>\n<path fill=\"none\" stroke=\"black\" d=\"M147.36,-222.91C133.93,-211.1 119.29,-198.22 105.91,-186.45\"/>\n<polygon fill=\"black\" stroke=\"black\" points=\"108.02,-183.64 98.2,-179.67 103.4,-188.9 108.02,-183.64\"/>\n</g>\n<!-- 5 -->\n<g id=\"node6\" class=\"node\">\n<title>5</title>\n<polygon fill=\"#5ae996\" stroke=\"black\" points=\"260,-179.5 139,-179.5 139,-111.5 260,-111.5 260,-179.5\"/>\n<text text-anchor=\"middle\" x=\"199.5\" y=\"-164.3\" font-family=\"Helvetica,sans-Serif\" font-size=\"14.00\">gini = 0.245</text>\n<text text-anchor=\"middle\" x=\"199.5\" y=\"-149.3\" font-family=\"Helvetica,sans-Serif\" font-size=\"14.00\">samples = 7</text>\n<text text-anchor=\"middle\" x=\"199.5\" y=\"-134.3\" font-family=\"Helvetica,sans-Serif\" font-size=\"14.00\">value = [0, 6, 1]</text>\n<text text-anchor=\"middle\" x=\"199.5\" y=\"-119.3\" font-family=\"Helvetica,sans-Serif\" font-size=\"14.00\">class = versicolor</text>\n</g>\n<!-- 3&#45;&gt;5 -->\n<g id=\"edge5\" class=\"edge\">\n<title>3&#45;&gt;5</title>\n<path fill=\"none\" stroke=\"black\" d=\"M195.58,-222.91C196.13,-212.2 196.72,-200.62 197.28,-189.78\"/>\n<polygon fill=\"black\" stroke=\"black\" points=\"200.78,-189.83 197.8,-179.67 193.79,-189.47 200.78,-189.83\"/>\n</g>\n<!-- 7 -->\n<g id=\"node8\" class=\"node\">\n<title>7</title>\n<polygon fill=\"#a774ed\" stroke=\"black\" points=\"457.5,-187 289.5,-187 289.5,-104 457.5,-104 457.5,-187\"/>\n<text text-anchor=\"middle\" x=\"373.5\" y=\"-171.8\" font-family=\"Helvetica,sans-Serif\" font-size=\"14.00\">petal length (cm) &lt;= 4.95</text>\n<text text-anchor=\"middle\" x=\"373.5\" y=\"-156.8\" font-family=\"Helvetica,sans-Serif\" font-size=\"14.00\">gini = 0.355</text>\n<text text-anchor=\"middle\" x=\"373.5\" y=\"-141.8\" font-family=\"Helvetica,sans-Serif\" font-size=\"14.00\">samples = 13</text>\n<text text-anchor=\"middle\" x=\"373.5\" y=\"-126.8\" font-family=\"Helvetica,sans-Serif\" font-size=\"14.00\">value = [0, 3, 10]</text>\n<text text-anchor=\"middle\" x=\"373.5\" y=\"-111.8\" font-family=\"Helvetica,sans-Serif\" font-size=\"14.00\">class = virginica</text>\n</g>\n<!-- 6&#45;&gt;7 -->\n<g id=\"edge7\" class=\"edge\">\n<title>6&#45;&gt;7</title>\n<path fill=\"none\" stroke=\"black\" d=\"M377.42,-222.91C376.99,-214.56 376.53,-205.67 376.09,-197.02\"/>\n<polygon fill=\"black\" stroke=\"black\" points=\"379.59,-196.83 375.58,-187.02 372.59,-197.19 379.59,-196.83\"/>\n</g>\n<!-- 10 -->\n<g id=\"node11\" class=\"node\">\n<title>10</title>\n<polygon fill=\"#8139e5\" stroke=\"black\" points=\"593,-179.5 476,-179.5 476,-111.5 593,-111.5 593,-179.5\"/>\n<text text-anchor=\"middle\" x=\"534.5\" y=\"-164.3\" font-family=\"Helvetica,sans-Serif\" font-size=\"14.00\">gini = 0.0</text>\n<text text-anchor=\"middle\" x=\"534.5\" y=\"-149.3\" font-family=\"Helvetica,sans-Serif\" font-size=\"14.00\">samples = 28</text>\n<text text-anchor=\"middle\" x=\"534.5\" y=\"-134.3\" font-family=\"Helvetica,sans-Serif\" font-size=\"14.00\">value = [0, 0, 28]</text>\n<text text-anchor=\"middle\" x=\"534.5\" y=\"-119.3\" font-family=\"Helvetica,sans-Serif\" font-size=\"14.00\">class = virginica</text>\n</g>\n<!-- 6&#45;&gt;10 -->\n<g id=\"edge10\" class=\"edge\">\n<title>6&#45;&gt;10</title>\n<path fill=\"none\" stroke=\"black\" d=\"M433.28,-222.91C449.21,-210.88 466.63,-197.73 482.45,-185.79\"/>\n<polygon fill=\"black\" stroke=\"black\" points=\"484.69,-188.49 490.56,-179.67 480.47,-182.9 484.69,-188.49\"/>\n</g>\n<!-- 8 -->\n<g id=\"node9\" class=\"node\">\n<title>8</title>\n<polygon fill=\"#965ae9\" stroke=\"black\" points=\"364,-68 251,-68 251,0 364,0 364,-68\"/>\n<text text-anchor=\"middle\" x=\"307.5\" y=\"-52.8\" font-family=\"Helvetica,sans-Serif\" font-size=\"14.00\">gini = 0.245</text>\n<text text-anchor=\"middle\" x=\"307.5\" y=\"-37.8\" font-family=\"Helvetica,sans-Serif\" font-size=\"14.00\">samples = 7</text>\n<text text-anchor=\"middle\" x=\"307.5\" y=\"-22.8\" font-family=\"Helvetica,sans-Serif\" font-size=\"14.00\">value = [0, 1, 6]</text>\n<text text-anchor=\"middle\" x=\"307.5\" y=\"-7.8\" font-family=\"Helvetica,sans-Serif\" font-size=\"14.00\">class = virginica</text>\n</g>\n<!-- 7&#45;&gt;8 -->\n<g id=\"edge8\" class=\"edge\">\n<title>7&#45;&gt;8</title>\n<path fill=\"none\" stroke=\"black\" d=\"M348.92,-103.73C343.65,-94.97 338.06,-85.7 332.76,-76.91\"/>\n<polygon fill=\"black\" stroke=\"black\" points=\"335.73,-75.06 327.57,-68.3 329.74,-78.67 335.73,-75.06\"/>\n</g>\n<!-- 9 -->\n<g id=\"node10\" class=\"node\">\n<title>9</title>\n<polygon fill=\"#c09cf2\" stroke=\"black\" points=\"495,-68 382,-68 382,0 495,0 495,-68\"/>\n<text text-anchor=\"middle\" x=\"438.5\" y=\"-52.8\" font-family=\"Helvetica,sans-Serif\" font-size=\"14.00\">gini = 0.444</text>\n<text text-anchor=\"middle\" x=\"438.5\" y=\"-37.8\" font-family=\"Helvetica,sans-Serif\" font-size=\"14.00\">samples = 6</text>\n<text text-anchor=\"middle\" x=\"438.5\" y=\"-22.8\" font-family=\"Helvetica,sans-Serif\" font-size=\"14.00\">value = [0, 2, 4]</text>\n<text text-anchor=\"middle\" x=\"438.5\" y=\"-7.8\" font-family=\"Helvetica,sans-Serif\" font-size=\"14.00\">class = virginica</text>\n</g>\n<!-- 7&#45;&gt;9 -->\n<g id=\"edge9\" class=\"edge\">\n<title>7&#45;&gt;9</title>\n<path fill=\"none\" stroke=\"black\" d=\"M397.7,-103.73C402.9,-94.97 408.4,-85.7 413.62,-76.91\"/>\n<polygon fill=\"black\" stroke=\"black\" points=\"416.64,-78.69 418.73,-68.3 410.62,-75.11 416.64,-78.69\"/>\n</g>\n</g>\n</svg>\n"
          },
          "metadata": {},
          "execution_count": 26
        }
      ]
    },
    {
      "cell_type": "code",
      "metadata": {
        "colab": {
          "base_uri": "https://localhost:8080/",
          "height": 392
        },
        "id": "iMZzqrMFXqfl",
        "outputId": "186cd29e-a9b6-4d24-8ef0-f4dd1bed1bdb"
      },
      "source": [
        "import seaborn as sns\n",
        "import numpy as np\n",
        "%matplotlib inline\n",
        "\n",
        "# feature importance 추출\n",
        "print(\"Feature importances:\\n{0}\".format(np.round(dt_clf.feature_importances_, 3)))\n",
        "\n",
        "# feature별 importance 매핑\n",
        "for name, value in zip(iris_data.feature_names , dt_clf.feature_importances_):\n",
        "    print('{0} : {1:.3f}'.format(name, value))\n",
        "\n",
        "# feature importance를 column 별로 시각화 하기\n",
        "sns.barplot(x=dt_clf.feature_importances_ , y=iris_data.feature_names)"
      ],
      "execution_count": null,
      "outputs": [
        {
          "output_type": "stream",
          "name": "stdout",
          "text": [
            "Feature importances:\n",
            "[0.    0.    0.567 0.433]\n",
            "sepal length (cm) : 0.000\n",
            "sepal width (cm) : 0.000\n",
            "petal length (cm) : 0.567\n",
            "petal width (cm) : 0.433\n"
          ]
        },
        {
          "output_type": "execute_result",
          "data": {
            "text/plain": [
              "<AxesSubplot:>"
            ]
          },
          "metadata": {},
          "execution_count": 27
        },
        {
          "output_type": "display_data",
          "data": {
            "text/plain": [
              "<Figure size 432x288 with 1 Axes>"
            ],
            "image/png": "[encoded data removed]"
          },
          "metadata": {
            "needs_background": "light"
          }
        }
      ]
    },
    {
      "cell_type": "code",
      "metadata": {
        "colab": {
          "base_uri": "https://localhost:8080/",
          "height": 299
        },
        "id": "Blmd1WPbXtSQ",
        "outputId": "e6b3863c-ed9b-44cf-bec1-75cd6f1219dd"
      },
      "source": [
        "from sklearn.datasets import make_classification\n",
        "import matplotlib.pyplot as plt\n",
        "%matplotlib inline\n",
        "\n",
        "plt.title(\"3 Class values with 2 Features Sample data creation\")\n",
        "\n",
        "# 2차원 시각화를 위해서 feature는 2개, 결정값 클래스는 3가지 유형의 classification 샘플 데이터 생성.\n",
        "X_features, y_labels = make_classification(n_features=2, n_redundant=0, n_informative=2,\n",
        "                             n_classes=3, n_clusters_per_class=1,random_state=0)\n",
        "\n",
        "# plot 형태로 2개의 feature로 2차원 좌표 시각화, 각 클래스값은 다른 색깔로 표시됨.\n",
        "plt.scatter(X_features[:, 0], X_features[:, 1], marker='o', c=y_labels, s=25, cmap='rainbow', edgecolor='k')"
      ],
      "execution_count": null,
      "outputs": [
        {
          "output_type": "execute_result",
          "data": {
            "text/plain": [
              "<matplotlib.collections.PathCollection at 0x7f9ea05581f0>"
            ]
          },
          "metadata": {},
          "execution_count": 28
        },
        {
          "output_type": "display_data",
          "data": {
            "text/plain": [
              "<Figure size 432x288 with 1 Axes>"
            ],
            "image/png": "[encoded data removed]"
          },
          "metadata": {
            "needs_background": "light"
          }
        }
      ]
    },
    {
      "cell_type": "markdown",
      "metadata": {
        "id": "Natfd0A3pmfJ"
      },
      "source": [
        "## DT의 과대 적합을 최소화\n",
        "\n",
        "1. 사전 가지치기(Pre-pruning)\n",
        "\n",
        "\n",
        "\n",
        "<figure>\n",
        "<img src='http://i.imgur.com/MVFcKwz.png' width=500 height=500>\n",
        "</figure>\n",
        "\n",
        "\n",
        "\n",
        "2. DT 이후 데이터 포인트가 적은 노드를 삭제 또는 병합\n",
        "\n",
        "- Scickit-learn에서 결정트리는 DecisionTree Regressor와 DecisionTreeClassifier이 구현 되어 있음\n",
        "\n",
        "\n",
        "\n"
      ]
    },
    {
      "cell_type": "markdown",
      "source": [
        "# 4 예제 데이터로 살펴보는 Decision Tree"
      ],
      "metadata": {
        "id": "5Ejpt7HuJNnQ"
      }
    },
    {
      "cell_type": "code",
      "metadata": {
        "colab": {
          "base_uri": "https://localhost:8080/"
        },
        "id": "XoezIHqliNet",
        "outputId": "db1d9483-2cd2-4ec3-a67d-0d9c230c703b"
      },
      "source": [
        "from sklearn.tree import DecisionTreeClassifier\n",
        "from sklearn.datasets import load_breast_cancer\n",
        "from sklearn.model_selection import train_test_split\n",
        "\n",
        "#예제 데이터 읽기\n",
        "\n",
        "X_train, X_test, y_train, y_test = train_test_split(\n",
        "    # 여기에 입력\n",
        "    , random_state=42) # stratify : target:\n",
        "tree = DecisionTreeClassifier(random_state=0)\n",
        "tree.fit(X_train, y_train)\n",
        "print(\"Accuracy on training set: {:.3f}\".format(tree.score(X_train, y_train)))\n",
        "print(\"Accuracy on test set: {:.3f}\".format(tree.score(X_test, y_test)))"
      ],
      "execution_count": null,
      "outputs": [
        {
          "output_type": "stream",
          "name": "stdout",
          "text": [
            "Accuracy on training set: 1.000\n",
            "Accuracy on test set: 0.937\n"
          ]
        }
      ]
    },
    {
      "cell_type": "code",
      "metadata": {
        "id": "Q-5tJXkcrCBX"
      },
      "source": [
        "tree = DecisionTreeClassifier(max_depth=10, random_state=0)\n",
        "tree.fit(X_train, y_train)\n",
        "y_pred = tree.predict(X_test)\n",
        "\n",
        "print(\"Accuracy on training set: {:.3f}\".format(tree.score(X_train, y_train)))\n",
        "print(\"Accuracy on test set: {:.3f}\".format(tree.score(X_test, y_pred)))"
      ],
      "execution_count": null,
      "outputs": []
    },
    {
      "cell_type": "markdown",
      "metadata": {
        "id": "YoEg0WI8rVH1"
      },
      "source": [
        "- DT"
      ]
    },
    {
      "cell_type": "code",
      "metadata": {
        "id": "xc9NM0jRrSBD"
      },
      "source": [
        "from sklearn.tree import export_graphviz\n",
        "export_graphviz(tree, out_file=\"tree.dot\", class_names=[\"malignant\", \"benign\"],\n",
        "                feature_names=cancer.feature_names, impurity=False, filled=True)"
      ],
      "execution_count": null,
      "outputs": []
    },
    {
      "cell_type": "code",
      "metadata": {
        "id": "139r9ghxrYQw"
      },
      "source": [
        "import graphviz\n",
        "\n",
        "with open(\"tree.dot\") as f:\n",
        "    dot_graph = f.read()\n",
        "display(graphviz.Source(dot_graph))"
      ],
      "execution_count": null,
      "outputs": []
    },
    {
      "cell_type": "markdown",
      "metadata": {
        "id": "V4xbNje8rdXP"
      },
      "source": [
        "- Feature Importance in trees"
      ]
    },
    {
      "cell_type": "code",
      "metadata": {
        "id": "V3Cagpq1raFY",
        "colab": {
          "base_uri": "https://localhost:8080/"
        },
        "outputId": "5a43fc1c-78f8-4803-86ff-6f478c0ef2ae"
      },
      "source": [
        "print(\"Feature importances:\")\n",
        "print(tree.feature_importances_)"
      ],
      "execution_count": null,
      "outputs": [
        {
          "output_type": "stream",
          "name": "stdout",
          "text": [
            "Feature importances:\n",
            "[0.         0.00752597 0.         0.         0.00903116 0.\n",
            " 0.00752597 0.         0.         0.         0.00975731 0.04630969\n",
            " 0.         0.00238745 0.00231135 0.         0.         0.\n",
            " 0.         0.00668975 0.69546322 0.05383211 0.         0.01354675\n",
            " 0.         0.         0.01740312 0.11684357 0.01137258 0.        ]\n"
          ]
        }
      ]
    },
    {
      "cell_type": "markdown",
      "metadata": {
        "id": "2FCqhgMt90pK"
      },
      "source": [
        "# 5 랜덤 포레스트(Random Forest)\n",
        "\n",
        "- 오늘날 쓰이는 머신 러닝 알고리즘 중에서 **가장 강력한 성능을 자랑하는 알고리즘**\n",
        "\n",
        "- 랜덤 포레스트는 이 중 **배깅 방법**을 적용한 결정트리(Decison Tree)의 앙상블\n",
        "\n",
        "- 랜덤 포레스트 알고리즘은 **결정트리(Decision Tree) 분류기 여러 개를 훈련**시켜서 그 결과들을 가지고 예측을 함. 각각의 결정트리를 훈련시킬 때 배깅(Bagging). 즉, 훈련 세트에서 중복을 허용하여 샘플링한 데이터셋을 개별 결정트리 분류기의 훈련 세트로 하여 훈련시키는 방식.\n",
        "\n",
        "\n",
        "#### 장점 :\n",
        "1. 분류, 회귀에서 가장 널리 쓰이는 알고리즘으로 성능이 좋고 정확도가 높다\n",
        "2. 간편하고 빠르다.\n",
        "3. 큰 데이터 셋에서도 잘 사용되며, 많은 입력 변수들을 다룰 수 있다.\n",
        "\n",
        "#### 단점 :\n",
        "1. 속도와 메모리 비용이 상대적(linear에 비해)으로 큼\n",
        "(더 많은 트리 -> 정확도는 높아지나 시간과 리소스 소모가 큼)\n",
        "\n",
        "2. 트리 깊이와 개수 설정을 잘못하여 과적합(Overfiting)발생.\n",
        "\n",
        "\n",
        "\n",
        "\n",
        "#### 랜덤 포레스튼튼 훈련을 통해 구성해 놓은 다수의 의사결정트리들로부터 분류 결과를 취합해서 예측하는 앙상블 모델이라고 할 수 있음.\n",
        "\n",
        "<figure>\n",
        "    <img src='https://encrypted-tbn0.gstatic.com/images?q=tbn:ANd9GcSdQRp2AYzLvDCg88pi6c2CRYQ_6qNBGVDn7A&usqp=CAU' width=700 height=300>\n",
        "</figure>\n",
        "\n",
        "\n",
        "\n",
        "##코드 실습\n",
        "\n",
        "\n",
        "##### 배깅(Bagging)\n",
        "\n",
        "- 통계학에서 중복한 허용한 리샘플링(resampling)을 부트스트래핑(boostraping)이라 하고 이와 반대로 중복을 허용하지 않는 샘플링 방식을 페이스팅(pasting)이라고 함.\n",
        "\n",
        "\n",
        "\n",
        "ex) 10만개의 데이터 중 7만 5천개의 데이터를 학습데이터로 사용한다고 가정하면\n",
        "\n",
        "7만 5천개의 데이터를 가지고 여러 데이터 셋으로 나눈다면 학습데이터가 부족해지고 이로인해 모형들이 편향히 생기거나 분산이 커지는 문제가 생길 수 있음.\n",
        "\n",
        "하지만 배깅의 경우는 복원추출(Resampling)을 하기 때문에 어떤 데이터는 여러번 뽑힐 수 있고 어떤 데이터는 한번도 뽑히지 않을 수도 있다 때문에 75000개의 데이터를 가지고 75000번을 추출해도 75000가지의 서로 다른 샘플데이터를 추출할 수 있게 됨.\n",
        "\n",
        "이 특성을 이용해 조금씩 다른 모델들을 만들고 그것들의 결과를 취합\n",
        "\n",
        "데이터가 비슷하니 결과도 별 차이가 없다고 생각할 수 있지만 데이터가 빼곡해지는 효과가 있고, 조금씩 다른 모델들이 투표를 하는 방식으므로 배깅으로 만들어진 앙상블 모델은 결과들에 대한 편차가 크지 않고 안정적인 결과를 보여지도록 향상됨.\n",
        "\n",
        "학습데이터가 원래 편향이 있다면 그로 인한 편향문제까지는 해결하지 못하지만 미지의 데이터(Unseen data)에 상당히 괜찮은 성능을 보이고 노이즈나 아웃라이어에 대해서도 강해지는 것으로 알려져 있음.\n",
        "\n",
        "\n",
        "\n",
        "<figure>\n",
        "    <img src='https://miro.medium.com/max/1678/1*Wf91XObaX2zwow7mMwDmGw.png' width=700 height=300>\n",
        "</figure>\n",
        "\n",
        "출처 : https://eunsukimme.github.io/ml/2019/11/26/Random-Forest/\n",
        "\n",
        "- 이 의사결정나무들은 모두 같은 의사결정나무일 수가 없음\n",
        "\n",
        "- Bootstrap으로 샘플을 추출했기 때문에, 어느 정도의 중복과 함께 각기 다른 샘플로 의사 결정나무 모델을 생성\n",
        "\n",
        "\n",
        "##  Hyperparameter\n",
        "- n_estimators: 랜덤 포레스트 안의 결정 트리 갯수\n",
        "\n",
        " - n_estimators는 클수록 좋습니다.\n",
        " - 결정 트리가 많을수록 피팅, 하지만 그만큼 메모리와 훈련 시간이 증가.\n",
        "Default는 10\n",
        " - max_features: 무작위로 선택할 Feature의 개수\n",
        "\n",
        "-  max_features=n_features이면 30개의 feature 중 30개의 feature 모두를 선택해 결정 트리. bootstrap=True이면 30개의 feature에서 복원 추출로 30개.\n",
        "-  특성 선택의 무작위성이 없어질 뿐 샘플링의 무작위성은 유지\n",
        "-  bootstrap=True는 default 값\n",
        "-  따라서 max_features 값이 크다면 랜덤 포레스트의 트리들이 비슷하게 되며 가장 두드러진 특성에 맞게 예측.\n",
        "-  max_features 값이 작다면 랜덤 포레스트의 트리들이 서로 매우 다르며 오버피팅이 감소\n",
        "-  max_features는 일반적으로 Defalut 값,  \n",
        "\n",
        "- max_depth : 트리의 깊이\n",
        "\n",
        "-  min_samples_leaf : 리프노드가 되기 위한 최소한의 샘플 데이터 수\n",
        "\n",
        "-  min_samples_split : 노드를 분할하기 위한 최소한의 데이터 수\n",
        "\n",
        "-  max_leaf_nodes : 리프노드의 최대 개수\n",
        "\n",
        "\n"
      ]
    },
    {
      "cell_type": "markdown",
      "source": [
        "# 6 분류모형 활용"
      ],
      "metadata": {
        "id": "hrGeehi1QD3X"
      }
    },
    {
      "cell_type": "code",
      "source": [
        "#위의 데이터에서 target 키값의 값이 target, data가 feature가 되게 하여. 전처리를 적용(결측치, 스케일링(minmax), 파티셔닝(8:2),.... )\n",
        "\n",
        "#1. 분류모델링: DT 이용\n",
        "\n",
        "#2. 각 모델링마다 test에 대해서  classification_report 결과를 제시"
      ],
      "metadata": {
        "id": "xyWoKqB49cOo"
      },
      "execution_count": null,
      "outputs": []
    },
    {
      "cell_type": "code",
      "source": [
        "from sklearn.datasets import load_digits\n",
        "mnist = load_digits()\n"
      ],
      "metadata": {
        "id": "xRQqMdf3BoUu"
      },
      "execution_count": 48,
      "outputs": []
    },
    {
      "cell_type": "code",
      "source": [
        "from sklearn.datasets import load_digits\n",
        "mnist = load_digits()\n",
        "mnist.keys()\n",
        "\n",
        "#1. 전처리\n",
        "X = mnist.data\n",
        "y = mnist.target\n",
        "X.shape\n",
        "y.shape"
      ],
      "metadata": {
        "colab": {
          "base_uri": "https://localhost:8080/"
        },
        "id": "QOctvAg1D_wN",
        "outputId": "38816add-9c19-4c0e-8ccc-1376409b6acc"
      },
      "execution_count": 49,
      "outputs": [
        {
          "output_type": "execute_result",
          "data": {
            "text/plain": [
              "(1797,)"
            ]
          },
          "metadata": {},
          "execution_count": 49
        }
      ]
    },
    {
      "cell_type": "code",
      "source": [
        "import pandas as pd\n",
        "pd.DataFrame(X).isnull().mean()\n",
        "X_scaled = X/255\n",
        "\n",
        "from sklearn.model_selection import train_test_split\n",
        "X_train, X_test, y_train, y_test = train_test_split( X_scaled, y, test_size=0.2)\n"
      ],
      "metadata": {
        "id": "ov05bQydEOVQ"
      },
      "execution_count": 50,
      "outputs": []
    },
    {
      "cell_type": "code",
      "source": [
        "#1. DT\n",
        "from sklearn.tree import DecisionTreeClassifier\n",
        "model1 = DecisionTreeClassifier().fit(X_train, y_train)\n",
        "pred1 = model1.predict(X_test)\n",
        "\n",
        "from sklearn.metrics import classification_report\n",
        "print(classification_report( pred1, y_test))"
      ],
      "metadata": {
        "colab": {
          "base_uri": "https://localhost:8080/"
        },
        "id": "LlesppRsE1wn",
        "outputId": "d2c8e503-f03b-49f7-dc96-9f6276e9fff7"
      },
      "execution_count": 51,
      "outputs": [
        {
          "output_type": "stream",
          "name": "stdout",
          "text": [
            "              precision    recall  f1-score   support\n",
            "\n",
            "           0       1.00      1.00      1.00        27\n",
            "           1       0.88      0.88      0.88        43\n",
            "           2       0.88      0.82      0.85        34\n",
            "           3       0.82      0.80      0.81        40\n",
            "           4       0.87      0.84      0.86        32\n",
            "           5       0.92      0.94      0.93        35\n",
            "           6       0.91      0.95      0.93        43\n",
            "           7       0.89      0.80      0.85        41\n",
            "           8       0.59      0.77      0.67        22\n",
            "           9       0.88      0.84      0.86        43\n",
            "\n",
            "    accuracy                           0.87       360\n",
            "   macro avg       0.86      0.87      0.86       360\n",
            "weighted avg       0.87      0.87      0.87       360\n",
            "\n"
          ]
        }
      ]
    },
    {
      "cell_type": "code",
      "source": [
        "#param_grid에 min_samples_split를 추가해주세요, [1,3,5]\n",
        "#5 fold CV - >10 fold CV\n",
        "#최적 모형의 파라미터\n",
        "from sklearn import model_selection\n",
        "from sklearn import metrics\n",
        "\n",
        "param_grid = {\n",
        "    \"max_depth\":[1,3,5,7,9],\n",
        "    \"min_samples_split\":[1,3,5]\n",
        "}\n",
        "#declaring GridSearchCV model\n",
        "grid1 = model_selection.GridSearchCV(\n",
        "    estimator = model1, #모형\n",
        "    param_grid = param_grid,  #\n",
        "    scoring = 'accuracy', #정분류율\n",
        "    verbose = 10,\n",
        "    n_jobs = 1,\n",
        "    cv = 10      #k-fold CV, k값.\n",
        ")\n",
        "#fitting values to the gridsearchcv model\n",
        "grid1.fit(X_train,y_train)\n",
        "\n",
        "#printing the best possible values to enhance accuracy\n",
        "print(grid1.best_params_)\n",
        "print(grid1.best_estimator_)\n",
        "#printing the best score\n",
        "print(grid1.best_score_)\n"
      ],
      "metadata": {
        "id": "OB-HbDPYF3m7"
      },
      "execution_count": null,
      "outputs": []
    },
    {
      "cell_type": "code",
      "source": [
        "#2. RF\n",
        "from sklearn.ensemble import RandomForestClassifier\n",
        "model2 = RandomForestClassifier().fit(X_train, y_train)\n",
        "pred2 = model2.predict(X_test)\n",
        "\n",
        "from sklearn.metrics import classification_report\n",
        "print(classification_report( pred2, y_test))"
      ],
      "metadata": {
        "colab": {
          "base_uri": "https://localhost:8080/"
        },
        "outputId": "80bc452f-069b-497c-8dc0-ced785abc959",
        "id": "0AaS241_GQ2i"
      },
      "execution_count": 53,
      "outputs": [
        {
          "output_type": "stream",
          "name": "stdout",
          "text": [
            "              precision    recall  f1-score   support\n",
            "\n",
            "           0       1.00      1.00      1.00        27\n",
            "           1       1.00      0.98      0.99        44\n",
            "           2       1.00      1.00      1.00        32\n",
            "           3       0.97      1.00      0.99        38\n",
            "           4       1.00      1.00      1.00        31\n",
            "           5       1.00      0.95      0.97        38\n",
            "           6       0.98      1.00      0.99        44\n",
            "           7       1.00      0.95      0.97        39\n",
            "           8       0.90      0.96      0.93        27\n",
            "           9       0.98      1.00      0.99        40\n",
            "\n",
            "    accuracy                           0.98       360\n",
            "   macro avg       0.98      0.98      0.98       360\n",
            "weighted avg       0.98      0.98      0.98       360\n",
            "\n"
          ]
        }
      ]
    },
    {
      "cell_type": "code",
      "source": [
        "#param_grid에 min_samples_split [1,2,3], cv=5\n",
        "#best_estimator_를 출력하세요.\n",
        "from sklearn import model_selection\n",
        "from sklearn import metrics\n",
        "\n",
        "param_grid = {\n",
        "    \"n_estimators\":[100,150,200],\n",
        "    \"max_depth\":[1,3,5,7,9],\n",
        "    \"min_samples_split\":[1,2,3]\n",
        "}\n",
        "\n",
        "#declaring GridSearchCV model\n",
        "grid2 = model_selection.RandomizedSearchCV(\n",
        "    estimator = model2,\n",
        "    param_distributions = param_grid,\n",
        "    scoring = 'accuracy',\n",
        "    verbose = 10,\n",
        "    n_jobs = 1,\n",
        "    cv = 2,\n",
        "    n_iter = 10\n",
        ")\n",
        "\n",
        "#fitting values to the gridsearchcv model\n",
        "grid2.fit(X_train,y_train)\n",
        "#printing the best possible values to enhance accuracy\n",
        "print(grid2.best_params_)\n",
        "print(grid2.best_estimator_)\n",
        "#printing the best score\n",
        "print(grid2.best_score_)"
      ],
      "metadata": {
        "id": "RQ-fN1lSGQ2j"
      },
      "execution_count": null,
      "outputs": []
    },
    {
      "cell_type": "code",
      "source": [
        "grid2.best_estimator_.feature_importances_\n",
        "np.mean(y_test == grid2.best_estimator_.predict(X_test))"
      ],
      "metadata": {
        "colab": {
          "base_uri": "https://localhost:8080/"
        },
        "id": "MOEs0pWXOD1b",
        "outputId": "140ea766-fd3b-4c66-f3ab-ef528292dea8"
      },
      "execution_count": 59,
      "outputs": [
        {
          "output_type": "execute_result",
          "data": {
            "text/plain": [
              "0.975"
            ]
          },
          "metadata": {},
          "execution_count": 59
        }
      ]
    },
    {
      "cell_type": "code",
      "source": [
        "#creditset2.csv 읽으셔서 credit -> 8:2 train, test\n",
        "credit = pd.read_csv(\"creditset2.csv\")\n",
        "X_train, X_test, y_train, y_test = train_test_split( credit.drop(\"default10yr\",axis=1),\n",
        "                                                    credit.default10yr, test_size=0.2 )\n",
        "#RF로 grid search 최적의 파라미터 발견\n",
        "grid3 = model_selection.GridSearchCV(\n",
        "    estimator = RandomForestClassifier(),\n",
        "    param_grid=param_grid,\n",
        "    scoring=\"accuracy\",\n",
        "    cv=2\n",
        "    )\n",
        "grid3.fit(X_train, y_train)"
      ],
      "metadata": {
        "id": "B0LA2yKlPYXo"
      },
      "execution_count": null,
      "outputs": []
    },
    {
      "cell_type": "code",
      "source": [
        "pred = grid3.best_estimator_.predict(X_test)\n",
        "print(classification_report(pred, y_test))"
      ],
      "metadata": {
        "colab": {
          "base_uri": "https://localhost:8080/"
        },
        "id": "CePjpACoSlSK",
        "outputId": "9a1283be-f249-4881-dbc1-02109e4e1c7b"
      },
      "execution_count": 69,
      "outputs": [
        {
          "output_type": "stream",
          "name": "stdout",
          "text": [
            "              precision    recall  f1-score   support\n",
            "\n",
            "           0       1.00      0.99      0.99       347\n",
            "           1       0.93      0.98      0.95        53\n",
            "\n",
            "    accuracy                           0.99       400\n",
            "   macro avg       0.96      0.98      0.97       400\n",
            "weighted avg       0.99      0.99      0.99       400\n",
            "\n"
          ]
        }
      ]
    },
    {
      "cell_type": "code",
      "source": [
        "# sms.csv를 읽어서 파티셔닝 하세요(8:2), type변수가 target\n",
        "sms = pd.read_csv(\"sms.csv\")\n",
        "X_train, X_test, y_train, y_test = train_test_split( sms.drop(\"type\",axis=1),\n",
        "                                                    sms.type, test_size=0.2 )\n",
        "# decisiontree, randomforest로 각각 grid search한 후에 test로 성능 비교하세요\n",
        "grid4 = model_selection.GridSearchCV(\n",
        "    estimator = RandomForestClassifier(),\n",
        "    param_grid=param_grid,\n",
        "    scoring=\"accuracy\",\n",
        "    cv=2\n",
        "    )\n",
        "grid4.fit(X_train, y_train)\n",
        "pred = grid4.best_estimator_.predict(X_test)\n",
        "print(classification_report(pred, y_test))"
      ],
      "metadata": {
        "id": "iAbATUFSZUNz"
      },
      "execution_count": null,
      "outputs": []
    },
    {
      "cell_type": "code",
      "source": [
        "#mortDefault2007~2009.csv\n",
        "# 2008년 데이터로 모델링->2009년 데이터에 대해서 예측, 성능평가\n",
        "mort2008 = pd.read_csv(\"mortDefault2008.csv\")\n",
        "#mort2009 = pd.read_csv(\"mortDefault2009.csv\")\n",
        "mort2008.drop(\"year\", axis=1)\n",
        "# 2007, 2008, 2009년의 default가 1인 데이터를 모아서 군집\n",
        "#default1인 행 필터링: df[ df.default == 1 ]\n",
        "#여러 데이터프레임 합치기: pd.concat( [   ,  ,  ])\n",
        "mort2008_filtered = mort2008[ mort2008[\"default\"] ==1  ]\n",
        "merged = pd.concat( [mort2008_filtered, mort2009] )\n",
        "from sklearn.cluster import KMeans\n",
        "KMeans(n_clusters=3).fit( merged.drop(\"default\", axis=1) )\n",
        "#pykrx에서 어제 날짜의 ohlcv 수집, 등락율 >0인 경우1, 아니면 0, 컬럼을 target, 분류모델링\n",
        "!pip install pykrx\n",
        "from pykrx import stock\n",
        "df = stock.get_market_ohlcv_by_date(\"20240702\")\n",
        "df[\"target\"] = df.등락율 > 0\n",
        "#타겟: target, X변수: 등락율은 제외\n"
      ],
      "metadata": {
        "colab": {
          "base_uri": "https://localhost:8080/",
          "height": 424
        },
        "id": "PJ2qVFGAeige",
        "outputId": "893d4b93-5ec9-4761-db13-09498a6d7c4c"
      },
      "execution_count": 74,
      "outputs": [
        {
          "output_type": "execute_result",
          "data": {
            "text/plain": [
              "        creditScore  houseAge  yearsEmploy  ccDebt  year  default\n",
              "18              663        16            1    7793  2008        1\n",
              "129             693        23            5    9246  2008        1\n",
              "156             660         9            3    9484  2008        1\n",
              "460             649        21            0    9184  2008        1\n",
              "541             742        24            2    8136  2008        1\n",
              "...             ...       ...          ...     ...   ...      ...\n",
              "999712          692        18            3    9604  2008        1\n",
              "999905          768        18            0    9150  2008        1\n",
              "999910          678        15            2    9005  2008        1\n",
              "999947          604        21            3    7597  2008        1\n",
              "999989          709        16            9   10642  2008        1\n",
              "\n",
              "[14811 rows x 6 columns]"
            ],
            "text/html": [
              "\n",
              "  <div id=\"df-359a498e-ca73-440d-93db-9c0e5d74ff45\" class=\"colab-df-container\">\n",
              "    <div>\n",
              "<style scoped>\n",
              "    .dataframe tbody tr th:only-of-type {\n",
              "        vertical-align: middle;\n",
              "    }\n",
              "\n",
              "    .dataframe tbody tr th {\n",
              "        vertical-align: top;\n",
              "    }\n",
              "\n",
              "    .dataframe thead th {\n",
              "        text-align: right;\n",
              "    }\n",
              "</style>\n",
              "<table border=\"1\" class=\"dataframe\">\n",
              "  <thead>\n",
              "    <tr style=\"text-align: right;\">\n",
              "      <th></th>\n",
              "      <th>creditScore</th>\n",
              "      <th>houseAge</th>\n",
              "      <th>yearsEmploy</th>\n",
              "      <th>ccDebt</th>\n",
              "      <th>year</th>\n",
              "      <th>default</th>\n",
              "    </tr>\n",
              "  </thead>\n",
              "  <tbody>\n",
              "    <tr>\n",
              "      <th>18</th>\n",
              "      <td>663</td>\n",
              "      <td>16</td>\n",
              "      <td>1</td>\n",
              "      <td>7793</td>\n",
              "      <td>2008</td>\n",
              "      <td>1</td>\n",
              "    </tr>\n",
              "    <tr>\n",
              "      <th>129</th>\n",
              "      <td>693</td>\n",
              "      <td>23</td>\n",
              "      <td>5</td>\n",
              "      <td>9246</td>\n",
              "      <td>2008</td>\n",
              "      <td>1</td>\n",
              "    </tr>\n",
              "    <tr>\n",
              "      <th>156</th>\n",
              "      <td>660</td>\n",
              "      <td>9</td>\n",
              "      <td>3</td>\n",
              "      <td>9484</td>\n",
              "      <td>2008</td>\n",
              "      <td>1</td>\n",
              "    </tr>\n",
              "    <tr>\n",
              "      <th>460</th>\n",
              "      <td>649</td>\n",
              "      <td>21</td>\n",
              "      <td>0</td>\n",
              "      <td>9184</td>\n",
              "      <td>2008</td>\n",
              "      <td>1</td>\n",
              "    </tr>\n",
              "    <tr>\n",
              "      <th>541</th>\n",
              "      <td>742</td>\n",
              "      <td>24</td>\n",
              "      <td>2</td>\n",
              "      <td>8136</td>\n",
              "      <td>2008</td>\n",
              "      <td>1</td>\n",
              "    </tr>\n",
              "    <tr>\n",
              "      <th>...</th>\n",
              "      <td>...</td>\n",
              "      <td>...</td>\n",
              "      <td>...</td>\n",
              "      <td>...</td>\n",
              "      <td>...</td>\n",
              "      <td>...</td>\n",
              "    </tr>\n",
              "    <tr>\n",
              "      <th>999712</th>\n",
              "      <td>692</td>\n",
              "      <td>18</td>\n",
              "      <td>3</td>\n",
              "      <td>9604</td>\n",
              "      <td>2008</td>\n",
              "      <td>1</td>\n",
              "    </tr>\n",
              "    <tr>\n",
              "      <th>999905</th>\n",
              "      <td>768</td>\n",
              "      <td>18</td>\n",
              "      <td>0</td>\n",
              "      <td>9150</td>\n",
              "      <td>2008</td>\n",
              "      <td>1</td>\n",
              "    </tr>\n",
              "    <tr>\n",
              "      <th>999910</th>\n",
              "      <td>678</td>\n",
              "      <td>15</td>\n",
              "      <td>2</td>\n",
              "      <td>9005</td>\n",
              "      <td>2008</td>\n",
              "      <td>1</td>\n",
              "    </tr>\n",
              "    <tr>\n",
              "      <th>999947</th>\n",
              "      <td>604</td>\n",
              "      <td>21</td>\n",
              "      <td>3</td>\n",
              "      <td>7597</td>\n",
              "      <td>2008</td>\n",
              "      <td>1</td>\n",
              "    </tr>\n",
              "    <tr>\n",
              "      <th>999989</th>\n",
              "      <td>709</td>\n",
              "      <td>16</td>\n",
              "      <td>9</td>\n",
              "      <td>10642</td>\n",
              "      <td>2008</td>\n",
              "      <td>1</td>\n",
              "    </tr>\n",
              "  </tbody>\n",
              "</table>\n",
              "<p>14811 rows × 6 columns</p>\n",
              "</div>\n",
              "    <div class=\"colab-df-buttons\">\n",
              "\n",
              "  <div class=\"colab-df-container\">\n",
              "    <button class=\"colab-df-convert\" onclick=\"convertToInteractive('df-359a498e-ca73-440d-93db-9c0e5d74ff45')\"\n",
              "            title=\"Convert this dataframe to an interactive table.\"\n",
              "            style=\"display:none;\">\n",
              "\n",
              "  <svg xmlns=\"http://www.w3.org/2000/svg\" height=\"24px\" viewBox=\"0 -960 960 960\">\n",
              "    <path d=\"M120-120v-720h720v720H120Zm60-500h600v-160H180v160Zm220 220h160v-160H400v160Zm0 220h160v-160H400v160ZM180-400h160v-160H180v160Zm440 0h160v-160H620v160ZM180-180h160v-160H180v160Zm440 0h160v-160H620v160Z\"/>\n",
              "  </svg>\n",
              "    </button>\n",
              "\n",
              "  <style>\n",
              "    .colab-df-container {\n",
              "      display:flex;\n",
              "      gap: 12px;\n",
              "    }\n",
              "\n",
              "    .colab-df-convert {\n",
              "      background-color: #E8F0FE;\n",
              "      border: none;\n",
              "      border-radius: 50%;\n",
              "      cursor: pointer;\n",
              "      display: none;\n",
              "      fill: #1967D2;\n",
              "      height: 32px;\n",
              "      padding: 0 0 0 0;\n",
              "      width: 32px;\n",
              "    }\n",
              "\n",
              "    .colab-df-convert:hover {\n",
              "      background-color: #E2EBFA;\n",
              "      box-shadow: 0px 1px 2px rgba(60, 64, 67, 0.3), 0px 1px 3px 1px rgba(60, 64, 67, 0.15);\n",
              "      fill: #174EA6;\n",
              "    }\n",
              "\n",
              "    .colab-df-buttons div {\n",
              "      margin-bottom: 4px;\n",
              "    }\n",
              "\n",
              "    [theme=dark] .colab-df-convert {\n",
              "      background-color: #3B4455;\n",
              "      fill: #D2E3FC;\n",
              "    }\n",
              "\n",
              "    [theme=dark] .colab-df-convert:hover {\n",
              "      background-color: #434B5C;\n",
              "      box-shadow: 0px 1px 3px 1px rgba(0, 0, 0, 0.15);\n",
              "      filter: drop-shadow(0px 1px 2px rgba(0, 0, 0, 0.3));\n",
              "      fill: #FFFFFF;\n",
              "    }\n",
              "  </style>\n",
              "\n",
              "    <script>\n",
              "      const buttonEl =\n",
              "        document.querySelector('#df-359a498e-ca73-440d-93db-9c0e5d74ff45 button.colab-df-convert');\n",
              "      buttonEl.style.display =\n",
              "        google.colab.kernel.accessAllowed ? 'block' : 'none';\n",
              "\n",
              "      async function convertToInteractive(key) {\n",
              "        const element = document.querySelector('#df-359a498e-ca73-440d-93db-9c0e5d74ff45');\n",
              "        const dataTable =\n",
              "          await google.colab.kernel.invokeFunction('convertToInteractive',\n",
              "                                                    [key], {});\n",
              "        if (!dataTable) return;\n",
              "\n",
              "        const docLinkHtml = 'Like what you see? Visit the ' +\n",
              "          '<a target=\"_blank\" href=https://colab.research.google.com/notebooks/data_table.ipynb>data table notebook</a>'\n",
              "          + ' to learn more about interactive tables.';\n",
              "        element.innerHTML = '';\n",
              "        dataTable['output_type'] = 'display_data';\n",
              "        await google.colab.output.renderOutput(dataTable, element);\n",
              "        const docLink = document.createElement('div');\n",
              "        docLink.innerHTML = docLinkHtml;\n",
              "        element.appendChild(docLink);\n",
              "      }\n",
              "    </script>\n",
              "  </div>\n",
              "\n",
              "\n",
              "<div id=\"df-1d4259d1-79c9-46cc-b619-e4a7f2e24b5f\">\n",
              "  <button class=\"colab-df-quickchart\" onclick=\"quickchart('df-1d4259d1-79c9-46cc-b619-e4a7f2e24b5f')\"\n",
              "            title=\"Suggest charts\"\n",
              "            style=\"display:none;\">\n",
              "\n",
              "<svg xmlns=\"http://www.w3.org/2000/svg\" height=\"24px\"viewBox=\"0 0 24 24\"\n",
              "     width=\"24px\">\n",
              "    <g>\n",
              "        <path d=\"M19 3H5c-1.1 0-2 .9-2 2v14c0 1.1.9 2 2 2h14c1.1 0 2-.9 2-2V5c0-1.1-.9-2-2-2zM9 17H7v-7h2v7zm4 0h-2V7h2v10zm4 0h-2v-4h2v4z\"/>\n",
              "    </g>\n",
              "</svg>\n",
              "  </button>\n",
              "\n",
              "<style>\n",
              "  .colab-df-quickchart {\n",
              "      --bg-color: #E8F0FE;\n",
              "      --fill-color: #1967D2;\n",
              "      --hover-bg-color: #E2EBFA;\n",
              "      --hover-fill-color: #174EA6;\n",
              "      --disabled-fill-color: #AAA;\n",
              "      --disabled-bg-color: #DDD;\n",
              "  }\n",
              "\n",
              "  [theme=dark] .colab-df-quickchart {\n",
              "      --bg-color: #3B4455;\n",
              "      --fill-color: #D2E3FC;\n",
              "      --hover-bg-color: #434B5C;\n",
              "      --hover-fill-color: #FFFFFF;\n",
              "      --disabled-bg-color: #3B4455;\n",
              "      --disabled-fill-color: #666;\n",
              "  }\n",
              "\n",
              "  .colab-df-quickchart {\n",
              "    background-color: var(--bg-color);\n",
              "    border: none;\n",
              "    border-radius: 50%;\n",
              "    cursor: pointer;\n",
              "    display: none;\n",
              "    fill: var(--fill-color);\n",
              "    height: 32px;\n",
              "    padding: 0;\n",
              "    width: 32px;\n",
              "  }\n",
              "\n",
              "  .colab-df-quickchart:hover {\n",
              "    background-color: var(--hover-bg-color);\n",
              "    box-shadow: 0 1px 2px rgba(60, 64, 67, 0.3), 0 1px 3px 1px rgba(60, 64, 67, 0.15);\n",
              "    fill: var(--button-hover-fill-color);\n",
              "  }\n",
              "\n",
              "  .colab-df-quickchart-complete:disabled,\n",
              "  .colab-df-quickchart-complete:disabled:hover {\n",
              "    background-color: var(--disabled-bg-color);\n",
              "    fill: var(--disabled-fill-color);\n",
              "    box-shadow: none;\n",
              "  }\n",
              "\n",
              "  .colab-df-spinner {\n",
              "    border: 2px solid var(--fill-color);\n",
              "    border-color: transparent;\n",
              "    border-bottom-color: var(--fill-color);\n",
              "    animation:\n",
              "      spin 1s steps(1) infinite;\n",
              "  }\n",
              "\n",
              "  @keyframes spin {\n",
              "    0% {\n",
              "      border-color: transparent;\n",
              "      border-bottom-color: var(--fill-color);\n",
              "      border-left-color: var(--fill-color);\n",
              "    }\n",
              "    20% {\n",
              "      border-color: transparent;\n",
              "      border-left-color: var(--fill-color);\n",
              "      border-top-color: var(--fill-color);\n",
              "    }\n",
              "    30% {\n",
              "      border-color: transparent;\n",
              "      border-left-color: var(--fill-color);\n",
              "      border-top-color: var(--fill-color);\n",
              "      border-right-color: var(--fill-color);\n",
              "    }\n",
              "    40% {\n",
              "      border-color: transparent;\n",
              "      border-right-color: var(--fill-color);\n",
              "      border-top-color: var(--fill-color);\n",
              "    }\n",
              "    60% {\n",
              "      border-color: transparent;\n",
              "      border-right-color: var(--fill-color);\n",
              "    }\n",
              "    80% {\n",
              "      border-color: transparent;\n",
              "      border-right-color: var(--fill-color);\n",
              "      border-bottom-color: var(--fill-color);\n",
              "    }\n",
              "    90% {\n",
              "      border-color: transparent;\n",
              "      border-bottom-color: var(--fill-color);\n",
              "    }\n",
              "  }\n",
              "</style>\n",
              "\n",
              "  <script>\n",
              "    async function quickchart(key) {\n",
              "      const quickchartButtonEl =\n",
              "        document.querySelector('#' + key + ' button');\n",
              "      quickchartButtonEl.disabled = true;  // To prevent multiple clicks.\n",
              "      quickchartButtonEl.classList.add('colab-df-spinner');\n",
              "      try {\n",
              "        const charts = await google.colab.kernel.invokeFunction(\n",
              "            'suggestCharts', [key], {});\n",
              "      } catch (error) {\n",
              "        console.error('Error during call to suggestCharts:', error);\n",
              "      }\n",
              "      quickchartButtonEl.classList.remove('colab-df-spinner');\n",
              "      quickchartButtonEl.classList.add('colab-df-quickchart-complete');\n",
              "    }\n",
              "    (() => {\n",
              "      let quickchartButtonEl =\n",
              "        document.querySelector('#df-1d4259d1-79c9-46cc-b619-e4a7f2e24b5f button');\n",
              "      quickchartButtonEl.style.display =\n",
              "        google.colab.kernel.accessAllowed ? 'block' : 'none';\n",
              "    })();\n",
              "  </script>\n",
              "</div>\n",
              "\n",
              "    </div>\n",
              "  </div>\n"
            ],
            "application/vnd.google.colaboratory.intrinsic+json": {
              "type": "dataframe",
              "summary": "{\n  \"name\": \"#df[\\\"\\ud0c0\\uac9f\\\"] = df\",\n  \"rows\": 14811,\n  \"fields\": [\n    {\n      \"column\": \"creditScore\",\n      \"properties\": {\n        \"dtype\": \"number\",\n        \"std\": 49,\n        \"min\": 497,\n        \"max\": 938,\n        \"num_unique_values\": 327,\n        \"samples\": [\n          572,\n          733,\n          785\n        ],\n        \"semantic_type\": \"\",\n        \"description\": \"\"\n      }\n    },\n    {\n      \"column\": \"houseAge\",\n      \"properties\": {\n        \"dtype\": \"number\",\n        \"std\": 5,\n        \"min\": 0,\n        \"max\": 40,\n        \"num_unique_values\": 41,\n        \"samples\": [\n          8,\n          19,\n          35\n        ],\n        \"semantic_type\": \"\",\n        \"description\": \"\"\n      }\n    },\n    {\n      \"column\": \"yearsEmploy\",\n      \"properties\": {\n        \"dtype\": \"number\",\n        \"std\": 1,\n        \"min\": 0,\n        \"max\": 12,\n        \"num_unique_values\": 13,\n        \"samples\": [\n          11,\n          9,\n          1\n        ],\n        \"semantic_type\": \"\",\n        \"description\": \"\"\n      }\n    },\n    {\n      \"column\": \"ccDebt\",\n      \"properties\": {\n        \"dtype\": \"number\",\n        \"std\": 1349,\n        \"min\": 3911,\n        \"max\": 14271,\n        \"num_unique_values\": 5166,\n        \"samples\": [\n          8659,\n          9890,\n          6369\n        ],\n        \"semantic_type\": \"\",\n        \"description\": \"\"\n      }\n    },\n    {\n      \"column\": \"year\",\n      \"properties\": {\n        \"dtype\": \"number\",\n        \"std\": 0,\n        \"min\": 2008,\n        \"max\": 2008,\n        \"num_unique_values\": 1,\n        \"samples\": [\n          2008\n        ],\n        \"semantic_type\": \"\",\n        \"description\": \"\"\n      }\n    },\n    {\n      \"column\": \"default\",\n      \"properties\": {\n        \"dtype\": \"number\",\n        \"std\": 0,\n        \"min\": 1,\n        \"max\": 1,\n        \"num_unique_values\": 1,\n        \"samples\": [\n          1\n        ],\n        \"semantic_type\": \"\",\n        \"description\": \"\"\n      }\n    }\n  ]\n}"
            }
          },
          "metadata": {},
          "execution_count": 74
        }
      ]
    },
    {
      "cell_type": "code",
      "source": [
        "credit = pd.read_csv(\"creditset2.csv\")\n",
        "#scaling\n",
        "from sklearn.preprocessing import StandardScaler\n",
        "scaler = StandardScaler()\n",
        "scaled = scaler.fit_transform(credit.drop(\"default10yr\", axis=1))\n",
        "X_train, X_test, y_train, y_test = train_test_split( scaled,\n",
        "                                                    credit.default10yr, test_size=0.2 )\n",
        "from sklearn.neural_network import MLPClassifier\n",
        "ann = MLPClassifier( hidden_layer_sizes=(30, 20, 10 ))\n",
        "ann.fit( X_train, y_train )\n",
        "ann.score(X_test, y_test)\n",
        "\n",
        "param_grid={\"hidden_layer_size\":[(30,20,10),(50,40,30), (10,5)]}\n",
        "model_selection.GridSearchCV(MLPClassifier(), param_grid, cv=5)\n"
      ],
      "metadata": {
        "colab": {
          "base_uri": "https://localhost:8080/",
          "height": 173
        },
        "id": "djmpzGODnj1u",
        "outputId": "9a9a05c5-88fd-4fd6-d97f-204bcc1116a7"
      },
      "execution_count": 81,
      "outputs": [
        {
          "output_type": "stream",
          "name": "stderr",
          "text": [
            "/usr/local/lib/python3.10/dist-packages/sklearn/neural_network/_multilayer_perceptron.py:686: ConvergenceWarning: Stochastic Optimizer: Maximum iterations (200) reached and the optimization hasn't converged yet.\n",
            "  warnings.warn(\n"
          ]
        },
        {
          "output_type": "execute_result",
          "data": {
            "text/plain": [
              "GridSearchCV(cv=5, estimator=MLPClassifier(),\n",
              "             param_grid={'hidden_layer_size': [(30, 20, 10), (50, 40, 30),\n",
              "                                               (10, 5)]})"
            ],
            "text/html": [
              "<style>#sk-container-id-7 {color: black;background-color: white;}#sk-container-id-7 pre{padding: 0;}#sk-container-id-7 div.sk-toggleable {background-color: white;}#sk-container-id-7 label.sk-toggleable__label {cursor: pointer;display: block;width: 100%;margin-bottom: 0;padding: 0.3em;box-sizing: border-box;text-align: center;}#sk-container-id-7 label.sk-toggleable__label-arrow:before {content: \"▸\";float: left;margin-right: 0.25em;color: #696969;}#sk-container-id-7 label.sk-toggleable__label-arrow:hover:before {color: black;}#sk-container-id-7 div.sk-estimator:hover label.sk-toggleable__label-arrow:before {color: black;}#sk-container-id-7 div.sk-toggleable__content {max-height: 0;max-width: 0;overflow: hidden;text-align: left;background-color: #f0f8ff;}#sk-container-id-7 div.sk-toggleable__content pre {margin: 0.2em;color: black;border-radius: 0.25em;background-color: #f0f8ff;}#sk-container-id-7 input.sk-toggleable__control:checked~div.sk-toggleable__content {max-height: 200px;max-width: 100%;overflow: auto;}#sk-container-id-7 input.sk-toggleable__control:checked~label.sk-toggleable__label-arrow:before {content: \"▾\";}#sk-container-id-7 div.sk-estimator input.sk-toggleable__control:checked~label.sk-toggleable__label {background-color: #d4ebff;}#sk-container-id-7 div.sk-label input.sk-toggleable__control:checked~label.sk-toggleable__label {background-color: #d4ebff;}#sk-container-id-7 input.sk-hidden--visually {border: 0;clip: rect(1px 1px 1px 1px);clip: rect(1px, 1px, 1px, 1px);height: 1px;margin: -1px;overflow: hidden;padding: 0;position: absolute;width: 1px;}#sk-container-id-7 div.sk-estimator {font-family: monospace;background-color: #f0f8ff;border: 1px dotted black;border-radius: 0.25em;box-sizing: border-box;margin-bottom: 0.5em;}#sk-container-id-7 div.sk-estimator:hover {background-color: #d4ebff;}#sk-container-id-7 div.sk-parallel-item::after {content: \"\";width: 100%;border-bottom: 1px solid gray;flex-grow: 1;}#sk-container-id-7 div.sk-label:hover label.sk-toggleable__label {background-color: #d4ebff;}#sk-container-id-7 div.sk-serial::before {content: \"\";position: absolute;border-left: 1px solid gray;box-sizing: border-box;top: 0;bottom: 0;left: 50%;z-index: 0;}#sk-container-id-7 div.sk-serial {display: flex;flex-direction: column;align-items: center;background-color: white;padding-right: 0.2em;padding-left: 0.2em;position: relative;}#sk-container-id-7 div.sk-item {position: relative;z-index: 1;}#sk-container-id-7 div.sk-parallel {display: flex;align-items: stretch;justify-content: center;background-color: white;position: relative;}#sk-container-id-7 div.sk-item::before, #sk-container-id-7 div.sk-parallel-item::before {content: \"\";position: absolute;border-left: 1px solid gray;box-sizing: border-box;top: 0;bottom: 0;left: 50%;z-index: -1;}#sk-container-id-7 div.sk-parallel-item {display: flex;flex-direction: column;z-index: 1;position: relative;background-color: white;}#sk-container-id-7 div.sk-parallel-item:first-child::after {align-self: flex-end;width: 50%;}#sk-container-id-7 div.sk-parallel-item:last-child::after {align-self: flex-start;width: 50%;}#sk-container-id-7 div.sk-parallel-item:only-child::after {width: 0;}#sk-container-id-7 div.sk-dashed-wrapped {border: 1px dashed gray;margin: 0 0.4em 0.5em 0.4em;box-sizing: border-box;padding-bottom: 0.4em;background-color: white;}#sk-container-id-7 div.sk-label label {font-family: monospace;font-weight: bold;display: inline-block;line-height: 1.2em;}#sk-container-id-7 div.sk-label-container {text-align: center;}#sk-container-id-7 div.sk-container {/* jupyter's `normalize.less` sets `[hidden] { display: none; }` but bootstrap.min.css set `[hidden] { display: none !important; }` so we also need the `!important` here to be able to override the default hidden behavior on the sphinx rendered scikit-learn.org. See: https://github.com/scikit-learn/scikit-learn/issues/21755 */display: inline-block !important;position: relative;}#sk-container-id-7 div.sk-text-repr-fallback {display: none;}</style><div id=\"sk-container-id-7\" class=\"sk-top-container\"><div class=\"sk-text-repr-fallback\"><pre>GridSearchCV(cv=5, estimator=MLPClassifier(),\n",
              "             param_grid={&#x27;hidden_layer_size&#x27;: [(30, 20, 10), (50, 40, 30),\n",
              "                                               (10, 5)]})</pre><b>In a Jupyter environment, please rerun this cell to show the HTML representation or trust the notebook. <br />On GitHub, the HTML representation is unable to render, please try loading this page with nbviewer.org.</b></div><div class=\"sk-container\" hidden><div class=\"sk-item sk-dashed-wrapped\"><div class=\"sk-label-container\"><div class=\"sk-label sk-toggleable\"><input class=\"sk-toggleable__control sk-hidden--visually\" id=\"sk-estimator-id-9\" type=\"checkbox\" ><label for=\"sk-estimator-id-9\" class=\"sk-toggleable__label sk-toggleable__label-arrow\">GridSearchCV</label><div class=\"sk-toggleable__content\"><pre>GridSearchCV(cv=5, estimator=MLPClassifier(),\n",
              "             param_grid={&#x27;hidden_layer_size&#x27;: [(30, 20, 10), (50, 40, 30),\n",
              "                                               (10, 5)]})</pre></div></div></div><div class=\"sk-parallel\"><div class=\"sk-parallel-item\"><div class=\"sk-item\"><div class=\"sk-label-container\"><div class=\"sk-label sk-toggleable\"><input class=\"sk-toggleable__control sk-hidden--visually\" id=\"sk-estimator-id-10\" type=\"checkbox\" ><label for=\"sk-estimator-id-10\" class=\"sk-toggleable__label sk-toggleable__label-arrow\">estimator: MLPClassifier</label><div class=\"sk-toggleable__content\"><pre>MLPClassifier()</pre></div></div></div><div class=\"sk-serial\"><div class=\"sk-item\"><div class=\"sk-estimator sk-toggleable\"><input class=\"sk-toggleable__control sk-hidden--visually\" id=\"sk-estimator-id-11\" type=\"checkbox\" ><label for=\"sk-estimator-id-11\" class=\"sk-toggleable__label sk-toggleable__label-arrow\">MLPClassifier</label><div class=\"sk-toggleable__content\"><pre>MLPClassifier()</pre></div></div></div></div></div></div></div></div></div></div>"
            ]
          },
          "metadata": {},
          "execution_count": 81
        }
      ]
    },
    {
      "cell_type": "markdown",
      "source": [
        "# 7 Adaboost, Gradient Boosting, XGBoost\n",
        "\n"
      ],
      "metadata": {
        "id": "Phhlyr-H0yqB"
      }
    },
    {
      "cell_type": "code",
      "source": [
        "import pandas as pd\n",
        "import numpy as np\n",
        "import matplotlib.pyplot as plt\n",
        "import warnings\n",
        "warnings.filterwarnings('ignore')\n",
        "\n",
        "from sklearn.datasets import load_iris\n",
        "from sklearn.linear_model import LogisticRegression\n"
      ],
      "metadata": {
        "id": "Vm_ksOulOYmA"
      },
      "execution_count": null,
      "outputs": []
    },
    {
      "cell_type": "markdown",
      "source": [
        "#### Classification Dataset\n",
        "- make_classification() function 이용하여 Binary 분류 데이터셋 생성\n",
        "- 1,000 행 10 열\n"
      ],
      "metadata": {
        "id": "VqAWpVtg1Ims"
      }
    },
    {
      "cell_type": "code",
      "source": [
        "# test classification dataset\n",
        "from sklearn.datasets import make_classification\n",
        "# define dataset\n",
        "X, y = make_classification(n_samples=1000, n_features=10, n_informative=5, n_redundant=5, random_state=1)\n",
        "# summarize the dataset\n",
        "print(X.shape, y.shape)\n"
      ],
      "metadata": {
        "colab": {
          "base_uri": "https://localhost:8080/"
        },
        "id": "88fFmhpu0zgW",
        "outputId": "b722db3d-440e-4f83-87d4-2a62695a300a"
      },
      "execution_count": null,
      "outputs": [
        {
          "output_type": "stream",
          "name": "stdout",
          "text": [
            "(1000, 10) (1000,)\n"
          ]
        }
      ]
    },
    {
      "cell_type": "code",
      "source": [
        "iris = load_iris()\n",
        "df = pd.DataFrame(iris.data, columns=iris.feature_names)\n",
        "df['species'] = [iris.target_names[x] for x in iris.target]\n",
        "\n",
        "X2 = df.drop('species', axis=1)\n",
        "y2 = df['species']\n"
      ],
      "metadata": {
        "id": "RXgH6FT3Ohes"
      },
      "execution_count": null,
      "outputs": []
    },
    {
      "cell_type": "markdown",
      "source": [
        "### 1. Adaboost\n"
      ],
      "metadata": {
        "id": "UhCvci_lNb_4"
      }
    },
    {
      "cell_type": "code",
      "source": [
        "from sklearn.tree import DecisionTreeClassifier, DecisionTreeRegressor\n",
        "from sklearn.tree import plot_tree\n",
        "from sklearn.ensemble import AdaBoostClassifier, AdaBoostRegressor\n",
        "\n",
        "clf = AdaBoostClassifier( n_estimators=5, learning_rate=0.5, random_state=100).fit(X,y)\n",
        "clf = AdaBoostClassifier( base_estimator=DecisionTreeClassifier(max_depth=1, min_samples_leaf=10),#base_estimator를 변경할 수 있음\n",
        "            n_estimators=5,  learning_rate=0.5, random_state=100 ).fit(X,y)"
      ],
      "metadata": {
        "id": "mYTxlVaDNgh4"
      },
      "execution_count": null,
      "outputs": []
    },
    {
      "cell_type": "code",
      "source": [
        "#iris로 테스트\n",
        "clf = AdaBoostClassifier( base_estimator=DecisionTreeClassifier(max_depth=1, min_samples_leaf=10),#base_estimator를 변경할 수 있음\n",
        "            n_estimators=5,  learning_rate=0.5, random_state=100).fit(X2,y2)"
      ],
      "metadata": {
        "id": "_ELLykCtP01-"
      },
      "execution_count": null,
      "outputs": []
    },
    {
      "cell_type": "code",
      "source": [
        "## 예측\n",
        "print(clf.predict(X2)[:3])\n",
        "\n",
        "## 변수 중요도\n",
        "for i, col in enumerate(X2.columns):\n",
        "    print(f'{col} Importance : {clf.feature_importances_[i]}')\n",
        "\n",
        "print(clf.get_params())\n",
        "print('Accuracy : ', clf.score(X2,y2))\n"
      ],
      "metadata": {
        "colab": {
          "base_uri": "https://localhost:8080/"
        },
        "id": "lyi304NdOFK0",
        "outputId": "ebb9c29c-508c-41ad-94d2-b801bec780c0"
      },
      "execution_count": null,
      "outputs": [
        {
          "output_type": "stream",
          "name": "stdout",
          "text": [
            "['setosa' 'setosa' 'setosa']\n",
            "sepal length (cm) Importance : 0.0\n",
            "sepal width (cm) Importance : 0.0\n",
            "petal length (cm) Importance : 0.4\n",
            "petal width (cm) Importance : 0.6\n",
            "{'algorithm': 'SAMME.R', 'base_estimator__ccp_alpha': 0.0, 'base_estimator__class_weight': None, 'base_estimator__criterion': 'gini', 'base_estimator__max_depth': 1, 'base_estimator__max_features': None, 'base_estimator__max_leaf_nodes': None, 'base_estimator__min_impurity_decrease': 0.0, 'base_estimator__min_samples_leaf': 10, 'base_estimator__min_samples_split': 2, 'base_estimator__min_weight_fraction_leaf': 0.0, 'base_estimator__random_state': None, 'base_estimator__splitter': 'best', 'base_estimator': DecisionTreeClassifier(max_depth=1, min_samples_leaf=10), 'estimator': None, 'learning_rate': 0.5, 'n_estimators': 5, 'random_state': 100}\n",
            "Accuracy :  0.9533333333333334\n"
          ]
        }
      ]
    },
    {
      "cell_type": "code",
      "source": [
        "for i in range(len(clf.estimators_)):\n",
        "    ind_est = clf.estimators_[i]\n",
        "    col_idx = ind_est.tree_.feature[0]\n",
        "    print(X2.columns[col_idx]) ## 루트 노드에서의 분리 변수\n"
      ],
      "metadata": {
        "colab": {
          "base_uri": "https://localhost:8080/"
        },
        "id": "1AssOibHOI6s",
        "outputId": "f9ba9462-4fcc-44e1-fe01-a816beeccce8"
      },
      "execution_count": null,
      "outputs": [
        {
          "output_type": "stream",
          "name": "stdout",
          "text": [
            "petal width (cm)\n",
            "petal width (cm)\n",
            "petal length (cm)\n",
            "petal width (cm)\n",
            "petal length (cm)\n"
          ]
        }
      ]
    },
    {
      "cell_type": "code",
      "source": [
        "n_estimator = len(clf.estimators_)\n",
        "fig = plt.figure(figsize=(10, 15), facecolor='white')\n",
        "\n",
        "row_num=2\n",
        "col_num=3\n",
        "for i in range(n_estimator):\n",
        "    ax = fig.add_subplot(row_num, col_num, i+1)\n",
        "    plot_tree(clf.estimators_[i],\n",
        "              feature_names=X2.columns, ## 박스에 변수 이름 표시\n",
        "              class_names=clf.classes_, ## 클래스 이름(범주 이름)\n",
        "              ax=ax\n",
        "             )\n",
        "    ax.set_title(f'{i+1} th stump')\n",
        "plt.show()"
      ],
      "metadata": {
        "colab": {
          "base_uri": "https://localhost:8080/",
          "height": 1000
        },
        "id": "vydiuXa1OLbJ",
        "outputId": "fcaa844b-8209-4ac1-e4f8-a6e671bc75b9"
      },
      "execution_count": null,
      "outputs": [
        {
          "output_type": "display_data",
          "data": {
            "text/plain": [
              "<Figure size 1000x1500 with 5 Axes>"
            ],
            "image/png": "[encoded data removed]"
          },
          "metadata": {}
        }
      ]
    },
    {
      "cell_type": "markdown",
      "source": [
        "### 2. Gradient Boosting\n",
        "\n",
        "###Gradient boosting\n",
        "- 강력한 앙상블 기법\n",
        "- DT를 Boost하여 오차 Gradient를 최소화\n",
        "- Tree모형을 기반으로 하는 앙상블\n",
        "- 미분 가능한 loss 함수와 GD 최적화 알고리즘을 사용(=ANN)\n",
        "- GBM의 하이퍼파라미터\n",
        " - The number of trees or estimators in the model, The learning rate of the model, The row and column sampling rate for stochastic models, The maximum tree depth, The minimum tree weight.\n",
        "- loss : 경사 하강법에서 사용할 비용 함수. 기본값 'devidence'\n",
        "- learning_rate : GBM이 학습을 진행할 때마다 적용하는 학습률. 기본값은  0.1\n",
        "  - weak learner가 순차적으로 오류 값을 보정해 나가는 데 적용하는 계수\n",
        "  - 0 ~ 1 사이의 값\n",
        "  - 작을 경우, 예측 성능이 높아질 수 있으나 많은 week learner가 순차적인 반복이 필요해 수행시간이 길어지고 local optima에 빠질 수 있음\n",
        "  - 너무 큰 값을 설정하는 경우, 최적값을 못찰을 수 있어 성능이 떨어질 가능성이 있으나, 시간은 단축\n",
        "  - learning_rate은 n_estimator와 상호 보완적으로 활용\n",
        "\n",
        " - n_estimators: weak learner의 개수이며,기본값은 100\n",
        "  - weak learner가 많으면 성능 개선이 있지만 많은 시간 소요\n",
        "\n",
        "- subsample: weak learner가 학습에 사용하는 데이터 샘플링의 비율, 기본값은 1이며, 전체 데이터를 기반으로 학습함. 1보다 작은 값을 설정해서 과적합을 완화시킬 수 있음"
      ],
      "metadata": {
        "id": "8aKetD3Z0z1O"
      }
    },
    {
      "cell_type": "code",
      "source": [
        "# gradient boosting for classification\n",
        "from numpy import mean\n",
        "from numpy import std\n",
        "from sklearn.ensemble import GradientBoostingClassifier\n",
        "from matplotlib import pyplot\n",
        "\n",
        "#피팅\n",
        "model = GradientBoostingClassifier().fit(X, y)\n",
        "\n",
        "# 10개값을 갖는 한 개의 X 샘플에 대한 범주 예측\n",
        "row = [[2.56999479, -0.13019997, 3.16075093, -4.35936352, -1.61271951, -1.39352057, -2.48924933, -1.93094078, 3.26130366, 2.05692145]]\n",
        "yhat = model.predict(row)\n",
        "print('Prediction: %d' % yhat)"
      ],
      "metadata": {
        "colab": {
          "base_uri": "https://localhost:8080/"
        },
        "id": "of6Ui7VV0z7t",
        "outputId": "75368c2e-7a42-49e1-9f76-4fcf89e1d9a6"
      },
      "execution_count": null,
      "outputs": [
        {
          "output_type": "stream",
          "name": "stdout",
          "text": [
            "Prediction: 1\n"
          ]
        }
      ]
    },
    {
      "cell_type": "code",
      "source": [
        "#피팅\n",
        "model = GradientBoostingClassifier(n_estimators=100, max_depth=3).fit(X2, y2)\n"
      ],
      "metadata": {
        "id": "fxTCNWX9RLSx"
      },
      "execution_count": null,
      "outputs": []
    },
    {
      "cell_type": "code",
      "source": [
        "## 예측\n",
        "print(model.predict(X2)[:3])\n",
        "\n",
        "## 변수 중요도\n",
        "for i, col in enumerate(X2.columns):\n",
        "    print(f'{col} Importance : {model.feature_importances_[i]}')\n",
        "\n",
        "print(model.get_params())\n",
        "print('Accuracy : ', model.score(X2,y2))\n"
      ],
      "metadata": {
        "colab": {
          "base_uri": "https://localhost:8080/"
        },
        "id": "tdN6oA1cRU0Z",
        "outputId": "f489c539-691e-4e86-a2f9-a9eafc568ee5"
      },
      "execution_count": null,
      "outputs": [
        {
          "output_type": "stream",
          "name": "stdout",
          "text": [
            "['setosa' 'setosa' 'setosa']\n",
            "sepal length (cm) Importance : 0.00767740305730266\n",
            "sepal width (cm) Importance : 0.008848020281731848\n",
            "petal length (cm) Importance : 0.27601214727170936\n",
            "petal width (cm) Importance : 0.7074624293892561\n",
            "{'ccp_alpha': 0.0, 'criterion': 'friedman_mse', 'init': None, 'learning_rate': 0.1, 'loss': 'log_loss', 'max_depth': 3, 'max_features': None, 'max_leaf_nodes': None, 'min_impurity_decrease': 0.0, 'min_samples_leaf': 1, 'min_samples_split': 2, 'min_weight_fraction_leaf': 0.0, 'n_estimators': 100, 'n_iter_no_change': None, 'random_state': None, 'subsample': 1.0, 'tol': 0.0001, 'validation_fraction': 0.1, 'verbose': 0, 'warm_start': False}\n",
            "Accuracy :  1.0\n"
          ]
        }
      ]
    },
    {
      "cell_type": "markdown",
      "source": [
        "### 3.Gradient Boosting With XGBoost\n",
        "- Extreme Gradient Boosting을 의미하며, sklearn 대신 xgboost 라이브러리 이용\n",
        "- 계산 효율성을 높이며, 성능도 개선\n",
        "- colab에 설치되어 있으며 필요 시 !pip install xgboost\n"
      ],
      "metadata": {
        "id": "PhmUchYT1aAo"
      }
    },
    {
      "cell_type": "code",
      "source": [
        "# 분류, xgboost for classification\n",
        "from numpy import asarray\n",
        "from xgboost import XGBClassifier\n",
        "\n",
        "# fit\n",
        "model = XGBClassifier().fit(X, y)\n",
        "\n",
        "# prediction\n",
        "row = [2.56999479, -0.13019997, 3.16075093, -4.35936352, -1.61271951, -1.39352057, -2.48924933, -1.93094078, 3.26130366, 2.05692145]\n",
        "row = asarray(row).reshape((1, len(row)))\n",
        "yhat = model.predict(row)\n",
        "print('Prediction: %d' % yhat)"
      ],
      "metadata": {
        "colab": {
          "base_uri": "https://localhost:8080/"
        },
        "id": "0kyA3Vi61aGx",
        "outputId": "49d16c03-f9c2-42e3-df88-015646708397"
      },
      "execution_count": null,
      "outputs": [
        {
          "output_type": "stream",
          "name": "stdout",
          "text": [
            "Prediction: 1\n"
          ]
        }
      ]
    },
    {
      "cell_type": "code",
      "source": [
        "# fit\n",
        "y2_1 = pd.get_dummies(y2)\n",
        "model = XGBClassifier().fit(X2, y2_1)\n",
        "model.score(X2, y2_1)"
      ],
      "metadata": {
        "colab": {
          "base_uri": "https://localhost:8080/"
        },
        "id": "zh_LSwhM-7Xg",
        "outputId": "1e94ebd5-5ac9-4558-f75d-5f9ffcecae97"
      },
      "execution_count": null,
      "outputs": [
        {
          "output_type": "execute_result",
          "data": {
            "text/plain": [
              "0.9933333333333333"
            ]
          },
          "metadata": {},
          "execution_count": 34
        }
      ]
    }
  ]
}